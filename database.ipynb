{
 "cells": [
  {
   "cell_type": "code",
   "execution_count": 4,
   "id": "03a576d4",
   "metadata": {
    "pycharm": {
     "name": "#%%\n"
    }
   },
   "outputs": [
    {
     "name": "stderr",
     "output_type": "stream",
     "text": [
      "C:\\Users\\Ilja\\AppData\\Local\\Temp\\ipykernel_12468\\3969792180.py:4: DeprecationWarning: \n",
      "Pyarrow will become a required dependency of pandas in the next major release of pandas (pandas 3.0),\n",
      "(to allow more performant data types, such as the Arrow string type, and better interoperability with other libraries)\n",
      "but was not found to be installed on your system.\n",
      "If this would cause problems for you,\n",
      "please provide us feedback at https://github.com/pandas-dev/pandas/issues/54466\n",
      "        \n",
      "  import pandas\n"
     ]
    }
   ],
   "source": [
    "import sqlite3\n",
    "import os\n",
    "import functools\n",
    "import pandas \n",
    "import datetime\n",
    "import random "
   ]
  },
  {
   "cell_type": "code",
   "execution_count": 5,
   "id": "5f13944e",
   "metadata": {
    "pycharm": {
     "name": "#%%\n"
    }
   },
   "outputs": [],
   "source": [
    "from aiogram import types, F\n",
    "import pandas as pd\n",
    "from misc import dp\n",
    "from aiogram.types import Message, CallbackQuery\n",
    "from aiogram.filters import Command\n",
    "from kb import specialists_keyboard\n",
    "import sqlite3\n",
    "import os\n",
    "from tables import (create_tables, drop_tables, fill_test_data_to_tables, \n",
    "                    delete_collisions_by_appointment_time, \n",
    "                    delete_duplicates_from_customers, \n",
    "                    delete_duplicates_from_specialists, \n",
    "                    show_table, show_full_schedule, \n",
    "                    show_specialist_schedule, \n",
    "                    insert_appointment)\n",
    "# os.remove('scheduler.db')\n",
    "conn = sqlite3.connect('scheduler.db')   \n",
    "# cursor = conn.cursor()         "
   ]
  },
  {
   "cell_type": "code",
   "execution_count": null,
   "id": "8efdb05d",
   "metadata": {
    "pycharm": {
     "name": "#%%\n",
     "is_executing": true
    }
   },
   "outputs": [],
   "source": [
    "# conn.close()"
   ]
  },
  {
   "cell_type": "code",
   "execution_count": 6,
   "id": "987be003",
   "metadata": {
    "pycharm": {
     "name": "#%%\n"
    }
   },
   "outputs": [
    {
     "name": "stdout",
     "output_type": "stream",
     "text": [
      "Specialists added to specialists table. Customers added to customers table. Collisions deleted successfully.\n"
     ]
    }
   ],
   "source": [
    "drop_tables(conn)\n",
    "create_tables(conn)\n",
    "fill_test_data_to_tables(conn, ['specialists', 'customers'])\n",
    "# fill_test_data_to_tables(conn)\n",
    "# fill_test_data_to_tables(conn)\n",
    "delete_collisions_by_appointment_time(conn)\n",
    "\n",
    "\n"
   ]
  },
  {
   "cell_type": "code",
   "execution_count": null,
   "id": "22c5d4e4",
   "metadata": {
    "pycharm": {
     "name": "#%%\n",
     "is_executing": true
    }
   },
   "outputs": [],
   "source": [
    "# delete_duplicates_from_specialists(conn)\n",
    "# delete_duplicates_from_customers(conn)\n",
    "\n",
    "# specialists = show_table(conn, 'specialists')\n",
    "# [f\"{spec['work_position']} {spec['name']}\" \n",
    "#  for _, spec in specialists.iterrows()]"
   ]
  },
  {
   "cell_type": "code",
   "execution_count": null,
   "id": "c2f86882",
   "metadata": {
    "pycharm": {
     "name": "#%%\n",
     "is_executing": true
    }
   },
   "outputs": [],
   "source": [
    "show_table(conn, 'specialists')\n",
    "show_table(conn, 'customers')"
   ]
  },
  {
   "cell_type": "code",
   "execution_count": 1,
   "id": "96acbd1b",
   "metadata": {
    "pycharm": {
     "name": "#%%\n"
    }
   },
   "outputs": [
    {
     "ename": "NameError",
     "evalue": "name 'show_full_schedule' is not defined",
     "output_type": "error",
     "traceback": [
      "\u001B[1;31m---------------------------------------------------------------------------\u001B[0m",
      "\u001B[1;31mNameError\u001B[0m                                 Traceback (most recent call last)",
      "Cell \u001B[1;32mIn[1], line 1\u001B[0m\n\u001B[1;32m----> 1\u001B[0m \u001B[43mshow_full_schedule\u001B[49m(conn)\n",
      "\u001B[1;31mNameError\u001B[0m: name 'show_full_schedule' is not defined"
     ]
    }
   ],
   "source": [
    "show_full_schedule(conn)"
   ]
  },
  {
   "cell_type": "code",
   "execution_count": 2,
   "id": "e0b5da31",
   "metadata": {
    "pycharm": {
     "name": "#%%\n"
    }
   },
   "outputs": [
    {
     "ename": "NameError",
     "evalue": "name 'show_specialist_schedule' is not defined",
     "output_type": "error",
     "traceback": [
      "\u001B[1;31m---------------------------------------------------------------------------\u001B[0m",
      "\u001B[1;31mNameError\u001B[0m                                 Traceback (most recent call last)",
      "Cell \u001B[1;32mIn[2], line 1\u001B[0m\n\u001B[1;32m----> 1\u001B[0m \u001B[43mshow_specialist_schedule\u001B[49m(conn, \u001B[38;5;241m2\u001B[39m)\n",
      "\u001B[1;31mNameError\u001B[0m: name 'show_specialist_schedule' is not defined"
     ]
    }
   ],
   "source": [
    "show_specialist_schedule(conn, 2)"
   ]
  },
  {
   "cell_type": "code",
   "execution_count": 3,
   "id": "2f85e24c",
   "metadata": {
    "pycharm": {
     "name": "#%%\n"
    }
   },
   "outputs": [
    {
     "ename": "NameError",
     "evalue": "name 'insert_appointment' is not defined",
     "output_type": "error",
     "traceback": [
      "\u001B[1;31m---------------------------------------------------------------------------\u001B[0m",
      "\u001B[1;31mNameError\u001B[0m                                 Traceback (most recent call last)",
      "Cell \u001B[1;32mIn[3], line 5\u001B[0m\n\u001B[0;32m      3\u001B[0m specialist_id \u001B[38;5;241m=\u001B[39m \u001B[38;5;241m2\u001B[39m\n\u001B[0;32m      4\u001B[0m customer_id \u001B[38;5;241m=\u001B[39m \u001B[38;5;241m2\u001B[39m\n\u001B[1;32m----> 5\u001B[0m \u001B[38;5;28;01mawait\u001B[39;00m \u001B[43minsert_appointment\u001B[49m(conn, specialist_id\u001B[38;5;241m=\u001B[39mspecialist_id,\n\u001B[0;32m      6\u001B[0m                    customer_id\u001B[38;5;241m=\u001B[39mcustomer_id,\n\u001B[0;32m      7\u001B[0m                    appointment_time\u001B[38;5;241m=\u001B[39mappointment_time, \n\u001B[0;32m      8\u001B[0m                   appointment_date\u001B[38;5;241m=\u001B[39mappointment_date)\n\u001B[0;32m     11\u001B[0m \u001B[38;5;66;03m# conn.close()\u001B[39;00m\n",
      "\u001B[1;31mNameError\u001B[0m: name 'insert_appointment' is not defined"
     ]
    }
   ],
   "source": [
    "appointment_date = '2025-05-10'\n",
    "appointment_time = '15:00:00'\n",
    "specialist_id = 2\n",
    "customer_id = 2\n",
    "await insert_appointment(conn, specialist_id=specialist_id,\n",
    "                   customer_id=customer_id,\n",
    "                   appointment_time=appointment_time, \n",
    "                  appointment_date=appointment_date)\n",
    "\n",
    "\n",
    "# conn.close()\n"
   ]
  },
  {
   "cell_type": "code",
   "execution_count": null,
   "id": "b2e69de1",
   "metadata": {
    "pycharm": {
     "name": "#%%\n"
    }
   },
   "outputs": [],
   "source": []
  }
 ],
 "metadata": {
  "kernelspec": {
   "display_name": "Python 3 (ipykernel)",
   "language": "python",
   "name": "python3"
  },
  "language_info": {
   "codemirror_mode": {
    "name": "ipython",
    "version": 3
   },
   "file_extension": ".py",
   "mimetype": "text/x-python",
   "name": "python",
   "nbconvert_exporter": "python",
   "pygments_lexer": "ipython3",
   "version": "3.9.12"
  }
 },
 "nbformat": 4,
 "nbformat_minor": 5
}