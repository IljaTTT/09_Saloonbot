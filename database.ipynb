{
 "cells": [
  {
   "cell_type": "code",
   "execution_count": 1,
   "id": "03a576d4",
   "metadata": {},
   "outputs": [],
   "source": [
    "import sqlite3\n",
    "import os\n",
    "import functools\n",
    "import pandas \n",
    "import datetime\n",
    "import random "
   ]
  },
  {
   "cell_type": "code",
   "execution_count": 10,
   "id": "5f13944e",
   "metadata": {},
   "outputs": [],
   "source": [
    "from aiogram import types, F\n",
    "import pandas as pd\n",
    "from misc import dp\n",
    "from aiogram.types import Message, CallbackQuery\n",
    "from aiogram.filters import Command\n",
    "from kb import specialists_keyboard\n",
    "import sqlite3\n",
    "import os\n",
    "from tables import (create_tables, drop_tables, fill_test_data_to_tables, \n",
    "                    delete_collisions_by_appointment_time, \n",
    "                    delete_duplicates_from_customers, \n",
    "                    delete_duplicates_from_specialists, \n",
    "                    show_table, show_full_schedule, \n",
    "                    show_specialist_schedule, \n",
    "                    insert_appointment)\n",
    "# os.remove('scheduler.db')\n",
    "conn = sqlite3.connect('scheduler.db')   \n",
    "# cursor = conn.cursor()         "
   ]
  },
  {
   "cell_type": "code",
   "execution_count": 11,
   "id": "8efdb05d",
   "metadata": {},
   "outputs": [],
   "source": [
    "# conn.close()"
   ]
  },
  {
   "cell_type": "code",
   "execution_count": 22,
   "id": "987be003",
   "metadata": {},
   "outputs": [
    {
     "name": "stdout",
     "output_type": "stream",
     "text": [
      "Specialists added to specialists table. Customers added to customers table. "
     ]
    }
   ],
   "source": [
    "drop_tables(conn)\n",
    "create_tables(conn)\n",
    "fill_test_data_to_tables(conn, ['specialists', 'customers'])\n",
    "# fill_test_data_to_tables(conn)\n",
    "# fill_test_data_to_tables(conn)\n",
    "# delete_collisions_by_appointment_time(conn)\n",
    "\n",
    "\n"
   ]
  },
  {
   "cell_type": "code",
   "execution_count": 13,
   "id": "22c5d4e4",
   "metadata": {},
   "outputs": [],
   "source": [
    "# delete_duplicates_from_specialists(conn)\n",
    "# delete_duplicates_from_customers(conn)\n",
    "\n",
    "# specialists = show_table(conn, 'specialists')\n",
    "# [f\"{spec['work_position']} {spec['name']}\" \n",
    "#  for _, spec in specialists.iterrows()]"
   ]
  },
  {
   "cell_type": "code",
   "execution_count": 29,
   "id": "c2f86882",
   "metadata": {},
   "outputs": [
    {
     "data": {
      "text/html": [
       "<div>\n",
       "<style scoped>\n",
       "    .dataframe tbody tr th:only-of-type {\n",
       "        vertical-align: middle;\n",
       "    }\n",
       "\n",
       "    .dataframe tbody tr th {\n",
       "        vertical-align: top;\n",
       "    }\n",
       "\n",
       "    .dataframe thead th {\n",
       "        text-align: right;\n",
       "    }\n",
       "</style>\n",
       "<table border=\"1\" class=\"dataframe\">\n",
       "  <thead>\n",
       "    <tr style=\"text-align: right;\">\n",
       "      <th></th>\n",
       "      <th>id</th>\n",
       "      <th>name</th>\n",
       "      <th>phone</th>\n",
       "      <th>telegram_id</th>\n",
       "    </tr>\n",
       "  </thead>\n",
       "  <tbody>\n",
       "    <tr>\n",
       "      <th>0</th>\n",
       "      <td>1</td>\n",
       "      <td>Alice Smith</td>\n",
       "      <td>555-1234</td>\n",
       "      <td>@Smith</td>\n",
       "    </tr>\n",
       "    <tr>\n",
       "      <th>1</th>\n",
       "      <td>2</td>\n",
       "      <td>Bob Johnson</td>\n",
       "      <td>555-5678</td>\n",
       "      <td>@John</td>\n",
       "    </tr>\n",
       "    <tr>\n",
       "      <th>2</th>\n",
       "      <td>3</td>\n",
       "      <td>Charlie Brown</td>\n",
       "      <td>555-9012</td>\n",
       "      <td>@Briwn</td>\n",
       "    </tr>\n",
       "    <tr>\n",
       "      <th>3</th>\n",
       "      <td>4</td>\n",
       "      <td>Diana Martinez</td>\n",
       "      <td>555-3456</td>\n",
       "      <td>@Marta</td>\n",
       "    </tr>\n",
       "    <tr>\n",
       "      <th>4</th>\n",
       "      <td>5</td>\n",
       "      <td>Eva Wilson</td>\n",
       "      <td>555-7890</td>\n",
       "      <td>@Sida</td>\n",
       "    </tr>\n",
       "  </tbody>\n",
       "</table>\n",
       "</div>"
      ],
      "text/plain": [
       "   id            name     phone telegram_id\n",
       "0   1     Alice Smith  555-1234      @Smith\n",
       "1   2     Bob Johnson  555-5678       @John\n",
       "2   3   Charlie Brown  555-9012      @Briwn\n",
       "3   4  Diana Martinez  555-3456      @Marta\n",
       "4   5      Eva Wilson  555-7890       @Sida"
      ]
     },
     "execution_count": 29,
     "metadata": {},
     "output_type": "execute_result"
    }
   ],
   "source": [
    "show_table(conn, 'specialists')\n",
    "show_table(conn, 'customers')"
   ]
  },
  {
   "cell_type": "code",
   "execution_count": 44,
   "id": "96acbd1b",
   "metadata": {},
   "outputs": [
    {
     "data": {
      "text/html": [
       "<div>\n",
       "<style scoped>\n",
       "    .dataframe tbody tr th:only-of-type {\n",
       "        vertical-align: middle;\n",
       "    }\n",
       "\n",
       "    .dataframe tbody tr th {\n",
       "        vertical-align: top;\n",
       "    }\n",
       "\n",
       "    .dataframe thead th {\n",
       "        text-align: right;\n",
       "    }\n",
       "</style>\n",
       "<table border=\"1\" class=\"dataframe\">\n",
       "  <thead>\n",
       "    <tr style=\"text-align: right;\">\n",
       "      <th></th>\n",
       "      <th>spec_pos</th>\n",
       "      <th>s_name</th>\n",
       "      <th>date</th>\n",
       "      <th>time</th>\n",
       "      <th>c_name</th>\n",
       "      <th>c_phone</th>\n",
       "    </tr>\n",
       "  </thead>\n",
       "  <tbody>\n",
       "  </tbody>\n",
       "</table>\n",
       "</div>"
      ],
      "text/plain": [
       "Empty DataFrame\n",
       "Columns: [spec_pos, s_name, date, time, c_name, c_phone]\n",
       "Index: []"
      ]
     },
     "execution_count": 44,
     "metadata": {},
     "output_type": "execute_result"
    }
   ],
   "source": [
    "show_full_schedule(conn)"
   ]
  },
  {
   "cell_type": "code",
   "execution_count": 46,
   "id": "e0b5da31",
   "metadata": {},
   "outputs": [
    {
     "data": {
      "text/html": [
       "<div>\n",
       "<style scoped>\n",
       "    .dataframe tbody tr th:only-of-type {\n",
       "        vertical-align: middle;\n",
       "    }\n",
       "\n",
       "    .dataframe tbody tr th {\n",
       "        vertical-align: top;\n",
       "    }\n",
       "\n",
       "    .dataframe thead th {\n",
       "        text-align: right;\n",
       "    }\n",
       "</style>\n",
       "<table border=\"1\" class=\"dataframe\">\n",
       "  <thead>\n",
       "    <tr style=\"text-align: right;\">\n",
       "      <th></th>\n",
       "      <th>date</th>\n",
       "      <th>time</th>\n",
       "      <th>c_name</th>\n",
       "      <th>c_phone</th>\n",
       "    </tr>\n",
       "  </thead>\n",
       "  <tbody>\n",
       "    <tr>\n",
       "      <th>0</th>\n",
       "      <td>2025-05-10</td>\n",
       "      <td>15:00:00</td>\n",
       "      <td>Bob Johnson</td>\n",
       "      <td>555-5678</td>\n",
       "    </tr>\n",
       "  </tbody>\n",
       "</table>\n",
       "</div>"
      ],
      "text/plain": [
       "         date      time       c_name   c_phone\n",
       "0  2025-05-10  15:00:00  Bob Johnson  555-5678"
      ]
     },
     "execution_count": 46,
     "metadata": {},
     "output_type": "execute_result"
    }
   ],
   "source": [
    "show_specialist_schedule(conn, 2)"
   ]
  },
  {
   "cell_type": "code",
   "execution_count": 45,
   "id": "2f85e24c",
   "metadata": {},
   "outputs": [
    {
     "name": "stdout",
     "output_type": "stream",
     "text": [
      "2025-05-10\n",
      "Appointment successfully scheduled.\n"
     ]
    },
    {
     "data": {
      "text/plain": [
       "True"
      ]
     },
     "execution_count": 45,
     "metadata": {},
     "output_type": "execute_result"
    }
   ],
   "source": [
    "appointment_date = '2025-05-10'\n",
    "appointment_time = '15:00:00'\n",
    "specialist_id = 2\n",
    "customer_id = 2\n",
    "await insert_appointment(conn, specialist_id=specialist_id,\n",
    "                   customer_id=customer_id,\n",
    "                   appointment_time=appointment_time, \n",
    "                  appointment_date=appointment_date)\n",
    "\n",
    "\n",
    "# conn.close()\n"
   ]
  },
  {
   "cell_type": "code",
   "execution_count": null,
   "id": "b2e69de1",
   "metadata": {},
   "outputs": [],
   "source": []
  }
 ],
 "metadata": {
  "kernelspec": {
   "display_name": "Python 3 (ipykernel)",
   "language": "python",
   "name": "python3"
  },
  "language_info": {
   "codemirror_mode": {
    "name": "ipython",
    "version": 3
   },
   "file_extension": ".py",
   "mimetype": "text/x-python",
   "name": "python",
   "nbconvert_exporter": "python",
   "pygments_lexer": "ipython3",
   "version": "3.9.12"
  }
 },
 "nbformat": 4,
 "nbformat_minor": 5
}
