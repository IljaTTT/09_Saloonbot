{
 "cells": [
  {
   "cell_type": "code",
   "execution_count": 1,
   "id": "03a576d4",
   "metadata": {
    "pycharm": {
     "name": "#%%\n"
    }
   },
   "outputs": [],
   "source": [
    "import sqlite3\n",
    "import os\n",
    "import functools\n",
    "import pandas \n",
    "import datetime\n",
    "import random\n",
    "from functools import wraps\n",
    "import pandas as pd\n",
    "import datetime\n",
    "from random import randint\n",
    "from tabulate import tabulate\n"
   ]
  },
  {
   "cell_type": "code",
   "execution_count": 2,
   "outputs": [],
   "source": [
    "def print_as_dataframe(func):\n",
    "    '''Декоратор преобразует ответ базы данных в красивый и удобный pd.Dataframe'''\n",
    "\n",
    "    @wraps(func)\n",
    "    def wrapper(*args, **kwargs):\n",
    "        # Вызов оригинальной функции\n",
    "        result = func(*args, **kwargs)\n",
    "        # Преобразование в датафрйем с описанием колонок\n",
    "        df = pd.DataFrame(result, columns=[col[0] for col in result.description])\n",
    "        return df\n",
    "\n",
    "    return wrapper\n",
    "\n",
    "\n",
    "def print_tabulate(func):\n",
    "    @wraps(func)\n",
    "    def wrapper(*args, **kwargs):\n",
    "        # Вызов оригинальной функции\n",
    "        cursor = func(*args, **kwargs)\n",
    "        names = list(map(lambda x: x[0], cursor.description))\n",
    "        result = cursor.fetchall()\n",
    "        # print(result)\n",
    "        # fetchall()\n",
    "        # Преобразование в датафрйем с описанием колонок\n",
    "        tabulated = tabulate(result, headers=names, tablefmt='psql')\n",
    "        # print(tabulated)\n",
    "        return f\"<pre>{tabulated}</pre>\"\n",
    "\n",
    "    return wrapper\n",
    "\n",
    "@print_tabulate\n",
    "def show_table(conn, table: str):\n",
    "    '''Возвращает ответ базы данных для заданной таблицы'''\n",
    "    cursor = conn.cursor()\n",
    "    cursor = cursor.execute(f\"SELECT * FROM {table};\")\n",
    "    return cursor\n"
   ],
   "metadata": {
    "collapsed": false,
    "pycharm": {
     "name": "#%%\n"
    }
   }
  },
  {
   "cell_type": "code",
   "execution_count": 3,
   "id": "5f13944e",
   "metadata": {
    "pycharm": {
     "name": "#%%\n"
    }
   },
   "outputs": [],
   "source": [
    "from aiogram import types, F\n",
    "import pandas as pd\n",
    "from misc import dp\n",
    "from aiogram.types import Message, CallbackQuery\n",
    "from aiogram.filters import Command\n",
    "from kb import specialists_keyboard\n",
    "import sqlite3\n",
    "import os\n",
    "from tables import (create_tables, drop_tables, fill_test_data_to_tables, \n",
    "                    delete_collisions_by_appointment_time, \n",
    "                    delete_duplicates_from_customers, \n",
    "                    delete_duplicates_from_specialists, \n",
    "                    show_full_schedule,\n",
    "                    show_specialist_schedule,\n",
    "                    insert_appointment)\n",
    "# os.remove('scheduler.db')\n",
    "conn = sqlite3.connect('scheduler.db')   \n",
    "# cursor = conn.cursor()         "
   ]
  },
  {
   "cell_type": "code",
   "execution_count": 4,
   "id": "8efdb05d",
   "metadata": {
    "pycharm": {
     "name": "#%%\n"
    }
   },
   "outputs": [],
   "source": [
    "# conn.close()"
   ]
  },
  {
   "cell_type": "code",
   "execution_count": 5,
   "id": "987be003",
   "metadata": {
    "pycharm": {
     "name": "#%%\n"
    }
   },
   "outputs": [],
   "source": [
    "# drop_tables(conn)\n",
    "# create_tables(conn)\n",
    "# fill_test_data_to_tables(conn, ['specialists', 'customers'])\n",
    "# fill_test_data_to_tables(conn)\n",
    "# fill_test_data_to_tables(conn)\n",
    "# delete_collisions_by_appointment_time(conn)\n",
    "\n",
    "\n"
   ]
  },
  {
   "cell_type": "code",
   "execution_count": 6,
   "id": "22c5d4e4",
   "metadata": {
    "pycharm": {
     "name": "#%%\n"
    }
   },
   "outputs": [],
   "source": [
    "# delete_duplicates_from_specialists(conn)\n",
    "# delete_duplicates_from_customers(conn)\n",
    "\n",
    "# specialists = show_table(conn, 'specialists')\n",
    "# [f\"{spec['work_position']} {spec['name']}\" \n",
    "#  for _, spec in specialists.iterrows()]"
   ]
  },
  {
   "cell_type": "code",
   "execution_count": 20,
   "outputs": [
    {
     "data": {
      "text/plain": "['id', 'name', 'phone', 'telegram_id']"
     },
     "execution_count": 20,
     "metadata": {},
     "output_type": "execute_result"
    }
   ],
   "source": [
    "\n",
    "cursor = show_table(conn, 'customers')\n",
    "\n",
    "names = list(map(lambda x: x[0], cursor.description))\n",
    "names"
   ],
   "metadata": {
    "collapsed": false,
    "pycharm": {
     "name": "#%%\n"
    }
   }
  },
  {
   "cell_type": "code",
   "execution_count": 4,
   "id": "c2f86882",
   "metadata": {
    "pycharm": {
     "name": "#%%\n"
    }
   },
   "outputs": [
    {
     "data": {
      "text/plain": "'<pre>+------+------------------+-----------+---------------+-------------------+\\n|   id | name             | phone     | telegram_id   | work_position     |\\n|------+------------------+-----------+---------------+-------------------|\\n|    1 | John Smith       | 444-2326  |               | Hair Stylist      |\\n|    2 | Emily Johnson    | 444-3453  |               | Nail Technician   |\\n|    3 | Илья Тахтамыш    | 444-7880  | Iljattt_      | Esthetician       |\\n|    4 | Jessica Martinez | 444-23234 |               | Massage Therapist |\\n|    5 | David Wilson     | 444-2346  |               | Makeup Artist     |\\n+------+------------------+-----------+---------------+-------------------+</pre>'"
     },
     "execution_count": 4,
     "metadata": {},
     "output_type": "execute_result"
    }
   ],
   "source": [
    "show_table(conn, 'specialists')\n"
   ]
  },
  {
   "cell_type": "code",
   "execution_count": 13,
   "id": "96acbd1b",
   "metadata": {
    "pycharm": {
     "name": "#%%\n"
    }
   },
   "outputs": [
    {
     "data": {
      "text/plain": "'<pre>+--------------+---------------+------------+-------+------------------+---------------+\\n| 0            | 1             | 2          | 3     | 4                | 5             |\\n|--------------+---------------+------------+-------+------------------+---------------|\\n| Hair Stylist | John Smith    | 2024-02-24 | 09:00 | 32384 932 324    | 32224         |\\n| Hair Stylist | John Smith    | 2024-02-24 | 10:00 | 234234234        | 2349230923523 |\\n| Hair Stylist | John Smith    | 2024-02-25 | 08:00 | 34234923423 23 4 | 34            |\\n| Hair Stylist | John Smith    | 2024-02-25 | 10:00 | 34234923423 23 4 | 34            |\\n| Hair Stylist | John Smith    | 2024-02-25 | 11:00 | 34234923423 23 4 | 34            |\\n| Hair Stylist | John Smith    | 2024-02-25 | 17:00 | 34234923423 23 4 | 34            |\\n| Hair Stylist | John Smith    | 2024-03-02 | 15:00 | stfd s           | w34029342     |\\n| Esthetician  | Илья Тахтамыш | 2024-02-26 | 10:00 | выла ыввыа 02304 | 43234         |\\n+--------------+---------------+------------+-------+------------------+---------------+</pre>'"
     },
     "execution_count": 13,
     "metadata": {},
     "output_type": "execute_result"
    }
   ],
   "source": [
    "show_full_schedule(conn)"
   ]
  },
  {
   "cell_type": "code",
   "execution_count": 2,
   "id": "e0b5da31",
   "metadata": {
    "pycharm": {
     "name": "#%%\n"
    }
   },
   "outputs": [
    {
     "ename": "NameError",
     "evalue": "name 'show_specialist_schedule' is not defined",
     "output_type": "error",
     "traceback": [
      "\u001B[1;31m---------------------------------------------------------------------------\u001B[0m",
      "\u001B[1;31mNameError\u001B[0m                                 Traceback (most recent call last)",
      "Cell \u001B[1;32mIn[2], line 1\u001B[0m\n\u001B[1;32m----> 1\u001B[0m \u001B[43mshow_specialist_schedule\u001B[49m(conn, \u001B[38;5;241m2\u001B[39m)\n",
      "\u001B[1;31mNameError\u001B[0m: name 'show_specialist_schedule' is not defined"
     ]
    }
   ],
   "source": [
    "show_specialist_schedule(conn, 2)"
   ]
  },
  {
   "cell_type": "code",
   "execution_count": 3,
   "id": "2f85e24c",
   "metadata": {
    "pycharm": {
     "name": "#%%\n"
    }
   },
   "outputs": [
    {
     "ename": "NameError",
     "evalue": "name 'insert_appointment' is not defined",
     "output_type": "error",
     "traceback": [
      "\u001B[1;31m---------------------------------------------------------------------------\u001B[0m",
      "\u001B[1;31mNameError\u001B[0m                                 Traceback (most recent call last)",
      "Cell \u001B[1;32mIn[3], line 5\u001B[0m\n\u001B[0;32m      3\u001B[0m specialist_id \u001B[38;5;241m=\u001B[39m \u001B[38;5;241m2\u001B[39m\n\u001B[0;32m      4\u001B[0m customer_id \u001B[38;5;241m=\u001B[39m \u001B[38;5;241m2\u001B[39m\n\u001B[1;32m----> 5\u001B[0m \u001B[38;5;28;01mawait\u001B[39;00m \u001B[43minsert_appointment\u001B[49m(conn, specialist_id\u001B[38;5;241m=\u001B[39mspecialist_id,\n\u001B[0;32m      6\u001B[0m                    customer_id\u001B[38;5;241m=\u001B[39mcustomer_id,\n\u001B[0;32m      7\u001B[0m                    appointment_time\u001B[38;5;241m=\u001B[39mappointment_time, \n\u001B[0;32m      8\u001B[0m                   appointment_date\u001B[38;5;241m=\u001B[39mappointment_date)\n\u001B[0;32m     11\u001B[0m \u001B[38;5;66;03m# conn.close()\u001B[39;00m\n",
      "\u001B[1;31mNameError\u001B[0m: name 'insert_appointment' is not defined"
     ]
    }
   ],
   "source": [
    "appointment_date = '2025-05-10'\n",
    "appointment_time = '15:00:00'\n",
    "specialist_id = 2\n",
    "customer_id = 2\n",
    "await insert_appointment(conn, specialist_id=specialist_id,\n",
    "                   customer_id=customer_id,\n",
    "                   appointment_time=appointment_time, \n",
    "                  appointment_date=appointment_date)\n",
    "\n",
    "\n",
    "# conn.close()\n"
   ]
  },
  {
   "cell_type": "code",
   "execution_count": null,
   "id": "b2e69de1",
   "metadata": {
    "pycharm": {
     "name": "#%%\n"
    }
   },
   "outputs": [],
   "source": []
  }
 ],
 "metadata": {
  "kernelspec": {
   "display_name": "Python 3 (ipykernel)",
   "language": "python",
   "name": "python3"
  },
  "language_info": {
   "codemirror_mode": {
    "name": "ipython",
    "version": 3
   },
   "file_extension": ".py",
   "mimetype": "text/x-python",
   "name": "python",
   "nbconvert_exporter": "python",
   "pygments_lexer": "ipython3",
   "version": "3.9.12"
  }
 },
 "nbformat": 4,
 "nbformat_minor": 5
}