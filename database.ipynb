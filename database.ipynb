{
 "cells": [
  {
   "cell_type": "code",
   "execution_count": 1,
   "id": "5f13944e",
   "metadata": {},
   "outputs": [],
   "source": [
    "from aiogram import types, F\n",
    "import pandas as pd\n",
    "from misc import dp\n",
    "from aiogram.types import Message, CallbackQuery\n",
    "from aiogram.filters import Command\n",
    "from kb import specialists_keyboard\n",
    "import sqlite3\n",
    "import os\n",
    "from tables import (create_tables, fill_test_data_to_tables, \n",
    "                    delete_collisions_by_appointment_time, \n",
    "                    delete_duplicates_from_customers, \n",
    "                    delete_duplicates_from_specialists, \n",
    "                    show_table, show_full_schedule, \n",
    "                    show_specialist_schedule, \n",
    "                    insert_appointment)\n",
    "# os.remove('scheduler.db')\n",
    "conn = sqlite3.connect('scheduler.db')   \n",
    "# cursor = conn.cursor()         "
   ]
  },
  {
   "cell_type": "code",
   "execution_count": 19,
   "id": "8efdb05d",
   "metadata": {},
   "outputs": [],
   "source": [
    "# conn.close()"
   ]
  },
  {
   "cell_type": "code",
   "execution_count": 2,
   "id": "987be003",
   "metadata": {},
   "outputs": [],
   "source": [
    "# create_tables(conn)\n",
    "# fill_test_data_to_tables(conn)\n",
    "# fill_test_data_to_tables(conn)\n",
    "# fill_test_data_to_tables(conn)\n",
    "# delete_collisions_by_appointment_time(conn)\n",
    "\n",
    "\n"
   ]
  },
  {
   "cell_type": "code",
   "execution_count": 28,
   "id": "22c5d4e4",
   "metadata": {},
   "outputs": [
    {
     "data": {
      "text/plain": [
       "['Hair Stylist John Smith',\n",
       " 'Nail Technician Emily Johnson',\n",
       " 'Esthetician Michael Brown',\n",
       " 'Massage Therapist Jessica Martinez',\n",
       " 'Makeup Artist David Wilson']"
      ]
     },
     "execution_count": 28,
     "metadata": {},
     "output_type": "execute_result"
    }
   ],
   "source": [
    "# delete_duplicates_from_specialists(conn)\n",
    "# delete_duplicates_from_customers(conn)\n",
    "\n",
    "specialists = show_table(conn, 'specialists')\n",
    "[f\"{spec['work_position']} {spec['name']}\" \n",
    " for _, spec in specialists.iterrows()]"
   ]
  },
  {
   "cell_type": "code",
   "execution_count": 22,
   "id": "c2f86882",
   "metadata": {},
   "outputs": [
    {
     "data": {
      "text/html": [
       "<div>\n",
       "<style scoped>\n",
       "    .dataframe tbody tr th:only-of-type {\n",
       "        vertical-align: middle;\n",
       "    }\n",
       "\n",
       "    .dataframe tbody tr th {\n",
       "        vertical-align: top;\n",
       "    }\n",
       "\n",
       "    .dataframe thead th {\n",
       "        text-align: right;\n",
       "    }\n",
       "</style>\n",
       "<table border=\"1\" class=\"dataframe\">\n",
       "  <thead>\n",
       "    <tr style=\"text-align: right;\">\n",
       "      <th></th>\n",
       "      <th>id</th>\n",
       "      <th>name</th>\n",
       "      <th>phone</th>\n",
       "    </tr>\n",
       "  </thead>\n",
       "  <tbody>\n",
       "    <tr>\n",
       "      <th>0</th>\n",
       "      <td>1</td>\n",
       "      <td>Alice Smith</td>\n",
       "      <td>555-1234</td>\n",
       "    </tr>\n",
       "    <tr>\n",
       "      <th>1</th>\n",
       "      <td>2</td>\n",
       "      <td>Bob Johnson</td>\n",
       "      <td>555-5678</td>\n",
       "    </tr>\n",
       "    <tr>\n",
       "      <th>2</th>\n",
       "      <td>3</td>\n",
       "      <td>Charlie Brown</td>\n",
       "      <td>555-9012</td>\n",
       "    </tr>\n",
       "    <tr>\n",
       "      <th>3</th>\n",
       "      <td>4</td>\n",
       "      <td>Diana Martinez</td>\n",
       "      <td>555-3456</td>\n",
       "    </tr>\n",
       "    <tr>\n",
       "      <th>4</th>\n",
       "      <td>5</td>\n",
       "      <td>Eva Wilson</td>\n",
       "      <td>555-7890</td>\n",
       "    </tr>\n",
       "  </tbody>\n",
       "</table>\n",
       "</div>"
      ],
      "text/plain": [
       "   id            name     phone\n",
       "0   1     Alice Smith  555-1234\n",
       "1   2     Bob Johnson  555-5678\n",
       "2   3   Charlie Brown  555-9012\n",
       "3   4  Diana Martinez  555-3456\n",
       "4   5      Eva Wilson  555-7890"
      ]
     },
     "execution_count": 22,
     "metadata": {},
     "output_type": "execute_result"
    }
   ],
   "source": [
    "show_table(conn, 'customers')"
   ]
  },
  {
   "cell_type": "code",
   "execution_count": 23,
   "id": "96acbd1b",
   "metadata": {},
   "outputs": [
    {
     "data": {
      "text/html": [
       "<div>\n",
       "<style scoped>\n",
       "    .dataframe tbody tr th:only-of-type {\n",
       "        vertical-align: middle;\n",
       "    }\n",
       "\n",
       "    .dataframe tbody tr th {\n",
       "        vertical-align: top;\n",
       "    }\n",
       "\n",
       "    .dataframe thead th {\n",
       "        text-align: right;\n",
       "    }\n",
       "</style>\n",
       "<table border=\"1\" class=\"dataframe\">\n",
       "  <thead>\n",
       "    <tr style=\"text-align: right;\">\n",
       "      <th></th>\n",
       "      <th>appointment_time</th>\n",
       "      <th>customer_name</th>\n",
       "      <th>customer_phone</th>\n",
       "      <th>specialist_name</th>\n",
       "      <th>specialist_position</th>\n",
       "    </tr>\n",
       "  </thead>\n",
       "  <tbody>\n",
       "    <tr>\n",
       "      <th>0</th>\n",
       "      <td>2020-05-10 15:00:00</td>\n",
       "      <td>Bob Johnson</td>\n",
       "      <td>555-5678</td>\n",
       "      <td>Emily Johnson</td>\n",
       "      <td>Nail Technician</td>\n",
       "    </tr>\n",
       "    <tr>\n",
       "      <th>1</th>\n",
       "      <td>2024-02-08 09:00:00</td>\n",
       "      <td>Alice Smith</td>\n",
       "      <td>555-1234</td>\n",
       "      <td>John Smith</td>\n",
       "      <td>Hair Stylist</td>\n",
       "    </tr>\n",
       "    <tr>\n",
       "      <th>2</th>\n",
       "      <td>2024-02-08 09:00:00</td>\n",
       "      <td>Alice Smith</td>\n",
       "      <td>555-1234</td>\n",
       "      <td>Emily Johnson</td>\n",
       "      <td>Nail Technician</td>\n",
       "    </tr>\n",
       "    <tr>\n",
       "      <th>3</th>\n",
       "      <td>2024-02-08 10:00:00</td>\n",
       "      <td>Bob Johnson</td>\n",
       "      <td>555-5678</td>\n",
       "      <td>Emily Johnson</td>\n",
       "      <td>Nail Technician</td>\n",
       "    </tr>\n",
       "    <tr>\n",
       "      <th>4</th>\n",
       "      <td>2024-02-08 11:00:00</td>\n",
       "      <td>Charlie Brown</td>\n",
       "      <td>555-9012</td>\n",
       "      <td>Michael Brown</td>\n",
       "      <td>Esthetician</td>\n",
       "    </tr>\n",
       "  </tbody>\n",
       "</table>\n",
       "</div>"
      ],
      "text/plain": [
       "      appointment_time  customer_name customer_phone specialist_name  \\\n",
       "0  2020-05-10 15:00:00    Bob Johnson       555-5678   Emily Johnson   \n",
       "1  2024-02-08 09:00:00    Alice Smith       555-1234      John Smith   \n",
       "2  2024-02-08 09:00:00    Alice Smith       555-1234   Emily Johnson   \n",
       "3  2024-02-08 10:00:00    Bob Johnson       555-5678   Emily Johnson   \n",
       "4  2024-02-08 11:00:00  Charlie Brown       555-9012   Michael Brown   \n",
       "\n",
       "  specialist_position  \n",
       "0     Nail Technician  \n",
       "1        Hair Stylist  \n",
       "2     Nail Technician  \n",
       "3     Nail Technician  \n",
       "4         Esthetician  "
      ]
     },
     "execution_count": 23,
     "metadata": {},
     "output_type": "execute_result"
    }
   ],
   "source": [
    "show_full_schedule(conn).head()"
   ]
  },
  {
   "cell_type": "code",
   "execution_count": 12,
   "id": "e0b5da31",
   "metadata": {},
   "outputs": [
    {
     "data": {
      "text/html": [
       "<div>\n",
       "<style scoped>\n",
       "    .dataframe tbody tr th:only-of-type {\n",
       "        vertical-align: middle;\n",
       "    }\n",
       "\n",
       "    .dataframe tbody tr th {\n",
       "        vertical-align: top;\n",
       "    }\n",
       "\n",
       "    .dataframe thead th {\n",
       "        text-align: right;\n",
       "    }\n",
       "</style>\n",
       "<table border=\"1\" class=\"dataframe\">\n",
       "  <thead>\n",
       "    <tr style=\"text-align: right;\">\n",
       "      <th></th>\n",
       "      <th>appointment_time</th>\n",
       "      <th>customer_name</th>\n",
       "      <th>customer_phone</th>\n",
       "    </tr>\n",
       "  </thead>\n",
       "  <tbody>\n",
       "    <tr>\n",
       "      <th>0</th>\n",
       "      <td>2024-02-08 09:00:00</td>\n",
       "      <td>Alice Smith</td>\n",
       "      <td>555-1234</td>\n",
       "    </tr>\n",
       "    <tr>\n",
       "      <th>1</th>\n",
       "      <td>2024-02-08 10:00:00</td>\n",
       "      <td>Bob Johnson</td>\n",
       "      <td>555-5678</td>\n",
       "    </tr>\n",
       "    <tr>\n",
       "      <th>2</th>\n",
       "      <td>2024-02-08 15:00:00</td>\n",
       "      <td>Charlie Brown</td>\n",
       "      <td>555-9012</td>\n",
       "    </tr>\n",
       "    <tr>\n",
       "      <th>3</th>\n",
       "      <td>2024-02-09 10:00:00</td>\n",
       "      <td>Charlie Brown</td>\n",
       "      <td>555-9012</td>\n",
       "    </tr>\n",
       "    <tr>\n",
       "      <th>4</th>\n",
       "      <td>2024-02-09 15:00:00</td>\n",
       "      <td>Diana Martinez</td>\n",
       "      <td>555-3456</td>\n",
       "    </tr>\n",
       "    <tr>\n",
       "      <th>5</th>\n",
       "      <td>2024-02-10 09:30:00</td>\n",
       "      <td>Eva Wilson</td>\n",
       "      <td>555-7890</td>\n",
       "    </tr>\n",
       "    <tr>\n",
       "      <th>6</th>\n",
       "      <td>2024-02-10 12:00:00</td>\n",
       "      <td>Alice Smith</td>\n",
       "      <td>555-1234</td>\n",
       "    </tr>\n",
       "  </tbody>\n",
       "</table>\n",
       "</div>"
      ],
      "text/plain": [
       "      appointment_time   customer_name customer_phone\n",
       "0  2024-02-08 09:00:00     Alice Smith       555-1234\n",
       "1  2024-02-08 10:00:00     Bob Johnson       555-5678\n",
       "2  2024-02-08 15:00:00   Charlie Brown       555-9012\n",
       "3  2024-02-09 10:00:00   Charlie Brown       555-9012\n",
       "4  2024-02-09 15:00:00  Diana Martinez       555-3456\n",
       "5  2024-02-10 09:30:00      Eva Wilson       555-7890\n",
       "6  2024-02-10 12:00:00     Alice Smith       555-1234"
      ]
     },
     "execution_count": 12,
     "metadata": {},
     "output_type": "execute_result"
    }
   ],
   "source": [
    "show_specialist_schedule(conn, 2)"
   ]
  },
  {
   "cell_type": "code",
   "execution_count": 17,
   "id": "2f85e24c",
   "metadata": {},
   "outputs": [
    {
     "ename": "ProgrammingError",
     "evalue": "Cannot operate on a closed database.",
     "output_type": "error",
     "traceback": [
      "\u001b[0;31m---------------------------------------------------------------------------\u001b[0m",
      "\u001b[0;31mProgrammingError\u001b[0m                          Traceback (most recent call last)",
      "Input \u001b[0;32mIn [17]\u001b[0m, in \u001b[0;36m<cell line: 4>\u001b[0;34m()\u001b[0m\n\u001b[1;32m      2\u001b[0m specialist_id \u001b[38;5;241m=\u001b[39m \u001b[38;5;241m2\u001b[39m\n\u001b[1;32m      3\u001b[0m customer_id \u001b[38;5;241m=\u001b[39m \u001b[38;5;241m2\u001b[39m\n\u001b[0;32m----> 4\u001b[0m \u001b[43minsert_appointment\u001b[49m\u001b[43m(\u001b[49m\u001b[43mconn\u001b[49m\u001b[43m,\u001b[49m\u001b[43m \u001b[49m\u001b[43mspecialist_id\u001b[49m\u001b[38;5;241;43m=\u001b[39;49m\u001b[43mspecialist_id\u001b[49m\u001b[43m,\u001b[49m\n\u001b[1;32m      5\u001b[0m \u001b[43m                             \u001b[49m\u001b[43mcustomer_id\u001b[49m\u001b[38;5;241;43m=\u001b[39;49m\u001b[43mcustomer_id\u001b[49m\u001b[43m,\u001b[49m\n\u001b[1;32m      6\u001b[0m \u001b[43m                             \u001b[49m\u001b[43mappointment_time\u001b[49m\u001b[38;5;241;43m=\u001b[39;49m\u001b[43mappointment_time\u001b[49m\u001b[43m)\u001b[49m\n",
      "File \u001b[0;32m~/Documents/GitHub/neurobot/tables.py:218\u001b[0m, in \u001b[0;36minsert_appointment\u001b[0;34m(conn, specialist_id, customer_id, appointment_time)\u001b[0m\n\u001b[1;32m    216\u001b[0m \u001b[38;5;28;01mdef\u001b[39;00m \u001b[38;5;21minsert_appointment\u001b[39m(conn, specialist_id, customer_id, appointment_time):\n\u001b[1;32m    217\u001b[0m     \u001b[38;5;66;03m# Check if the appointment time is available\u001b[39;00m\n\u001b[0;32m--> 218\u001b[0m     cursor \u001b[38;5;241m=\u001b[39m \u001b[43mconn\u001b[49m\u001b[38;5;241;43m.\u001b[39;49m\u001b[43mcursor\u001b[49m\u001b[43m(\u001b[49m\u001b[43m)\u001b[49m\n\u001b[1;32m    219\u001b[0m     cursor\u001b[38;5;241m.\u001b[39mexecute(\u001b[38;5;124m'''\u001b[39m\u001b[38;5;124mSELECT 1 FROM work_schedule \u001b[39m\n\u001b[1;32m    220\u001b[0m \u001b[38;5;124m                       WHERE appointment_time = ? AND\u001b[39m\n\u001b[1;32m    221\u001b[0m \u001b[38;5;124m                       specialist_id = ?\u001b[39m\u001b[38;5;124m'''\u001b[39m, \n\u001b[1;32m    222\u001b[0m                    (appointment_time, specialist_id))\n\u001b[1;32m    223\u001b[0m     existing_appointment \u001b[38;5;241m=\u001b[39m cursor\u001b[38;5;241m.\u001b[39mfetchone()\n",
      "\u001b[0;31mProgrammingError\u001b[0m: Cannot operate on a closed database."
     ]
    }
   ],
   "source": [
    "appointment_time = '2020-05-10 15:00:00'\n",
    "specialist_id = 2\n",
    "customer_id = 2\n",
    "insert_appointment(conn, specialist_id=specialist_id,\n",
    "                             customer_id=customer_id,\n",
    "                             appointment_time=appointment_time)\n",
    "\n",
    "\n",
    "# conn.close()\n"
   ]
  },
  {
   "cell_type": "code",
   "execution_count": null,
   "id": "b2e69de1",
   "metadata": {},
   "outputs": [],
   "source": []
  }
 ],
 "metadata": {
  "kernelspec": {
   "display_name": "Python 3 (ipykernel)",
   "language": "python",
   "name": "python3"
  },
  "language_info": {
   "codemirror_mode": {
    "name": "ipython",
    "version": 3
   },
   "file_extension": ".py",
   "mimetype": "text/x-python",
   "name": "python",
   "nbconvert_exporter": "python",
   "pygments_lexer": "ipython3",
   "version": "3.9.12"
  }
 },
 "nbformat": 4,
 "nbformat_minor": 5
}
