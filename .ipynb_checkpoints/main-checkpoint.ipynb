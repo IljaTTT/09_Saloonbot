{
 "cells": [
  {
   "cell_type": "code",
   "execution_count": null,
   "id": "82ef4590-73f7-4d0d-9def-a81478e2f240",
   "metadata": {},
   "outputs": [
    {
     "name": "stderr",
     "output_type": "stream",
     "text": [
      "INFO:aiogram.dispatcher:Start polling\n",
      "INFO:aiogram.dispatcher:Run polling for bot @Recharger224_bot id=6444751690 - 'Recharger'\n",
      "INFO:aiogram.event:Update id=257549532 is handled. Duration 298 ms by bot id=6444751690\n",
      "INFO:aiogram.event:Update id=257549533 is handled. Duration 122 ms by bot id=6444751690\n"
     ]
    },
    {
     "name": "stdout",
     "output_type": "stream",
     "text": [
      "['34535er', 't34534', 'Iljattt']\n",
      "Customer successfully added\n"
     ]
    },
    {
     "name": "stderr",
     "output_type": "stream",
     "text": [
      "INFO:aiogram.event:Update id=257549534 is handled. Duration 155 ms by bot id=6444751690\n",
      "INFO:aiogram.event:Update id=257549535 is handled. Duration 202 ms by bot id=6444751690\n",
      "INFO:aiogram.event:Update id=257549536 is handled. Duration 115 ms by bot id=6444751690\n",
      "INFO:aiogram.event:Update id=257549537 is handled. Duration 115 ms by bot id=6444751690\n"
     ]
    },
    {
     "name": "stdout",
     "output_type": "stream",
     "text": [
      "2024-02-15\n",
      "Appointment successfully scheduled.\n"
     ]
    },
    {
     "name": "stderr",
     "output_type": "stream",
     "text": [
      "INFO:aiogram.event:Update id=257549538 is handled. Duration 411 ms by bot id=6444751690\n",
      "INFO:aiogram.event:Update id=257549539 is handled. Duration 153 ms by bot id=6444751690\n"
     ]
    },
    {
     "name": "stdout",
     "output_type": "stream",
     "text": [
      "Error: Customer phone and telegram_id alredy in customers\n"
     ]
    },
    {
     "name": "stderr",
     "output_type": "stream",
     "text": [
      "INFO:aiogram.event:Update id=257549540 is handled. Duration 109 ms by bot id=6444751690\n",
      "INFO:aiogram.event:Update id=257549541 is handled. Duration 115 ms by bot id=6444751690\n"
     ]
    },
    {
     "name": "stdout",
     "output_type": "stream",
     "text": [
      "2024-02-14\n",
      "Appointment successfully scheduled.\n"
     ]
    },
    {
     "name": "stderr",
     "output_type": "stream",
     "text": [
      "INFO:aiogram.event:Update id=257549542 is handled. Duration 272 ms by bot id=6444751690\n",
      "INFO:aiogram.event:Update id=257549543 is handled. Duration 131 ms by bot id=6444751690\n"
     ]
    },
    {
     "name": "stdout",
     "output_type": "stream",
     "text": [
      "END\n"
     ]
    },
    {
     "name": "stderr",
     "output_type": "stream",
     "text": [
      "INFO:aiogram.event:Update id=257549544 is handled. Duration 113 ms by bot id=6444751690\n",
      "INFO:aiogram.event:Update id=257549545 is handled. Duration 424 ms by bot id=6444751690\n",
      "INFO:aiogram.event:Update id=257549546 is handled. Duration 350 ms by bot id=6444751690\n",
      "INFO:aiogram.event:Update id=257549547 is handled. Duration 504 ms by bot id=6444751690\n",
      "INFO:aiogram.event:Update id=257549548 is handled. Duration 438 ms by bot id=6444751690\n",
      "INFO:aiogram.event:Update id=257549549 is handled. Duration 257 ms by bot id=6444751690\n"
     ]
    }
   ],
   "source": [
    "import misc\n",
    "import handlers\n",
    "import asyncio\n",
    "import logging\n",
    "\n",
    "async def main():\n",
    "    await misc.bot.delete_webhook(drop_pending_updates=True)\n",
    "    await misc.dp.start_polling(misc.bot, allowed_updates=misc.dp.resolve_used_update_types())\n",
    "\n",
    "\n",
    "if __name__ == \"__main__\":\n",
    "    logging.basicConfig(level=logging.INFO)\n",
    "    # asyncio.run(main())\n",
    "    await main()"
   ]
  },
  {
   "cell_type": "code",
   "execution_count": null,
   "id": "4d28ea95",
   "metadata": {},
   "outputs": [],
   "source": [
    " \n",
    "    "
   ]
  },
  {
   "cell_type": "code",
   "execution_count": null,
   "id": "e1be63de",
   "metadata": {},
   "outputs": [],
   "source": []
  }
 ],
 "metadata": {
  "kernelspec": {
   "display_name": "Python 3 (ipykernel)",
   "language": "python",
   "name": "python3"
  },
  "language_info": {
   "codemirror_mode": {
    "name": "ipython",
    "version": 3
   },
   "file_extension": ".py",
   "mimetype": "text/x-python",
   "name": "python",
   "nbconvert_exporter": "python",
   "pygments_lexer": "ipython3",
   "version": "3.9.12"
  }
 },
 "nbformat": 4,
 "nbformat_minor": 5
}
