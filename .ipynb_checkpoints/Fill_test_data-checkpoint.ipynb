{
 "cells": [
  {
   "cell_type": "code",
   "execution_count": 3,
   "id": "452a631b",
   "metadata": {},
   "outputs": [
    {
     "ename": "TypeError",
     "evalue": "drop_tables() takes 1 positional argument but 2 were given",
     "output_type": "error",
     "traceback": [
      "\u001b[0;31m---------------------------------------------------------------------------\u001b[0m",
      "\u001b[0;31mTypeError\u001b[0m                                 Traceback (most recent call last)",
      "Input \u001b[0;32mIn [3]\u001b[0m, in \u001b[0;36m<cell line: 9>\u001b[0;34m()\u001b[0m\n\u001b[1;32m      4\u001b[0m \u001b[38;5;28;01mfrom\u001b[39;00m \u001b[38;5;21;01mtables\u001b[39;00m \u001b[38;5;28;01mimport\u001b[39;00m (show_table, drop_tables, create_tables,\n\u001b[1;32m      5\u001b[0m                     fill_test_data_to_tables, show_full_schedule, \n\u001b[1;32m      6\u001b[0m                     delete_collisions_by_appointment_time)\n\u001b[1;32m      7\u001b[0m conn \u001b[38;5;241m=\u001b[39m sqlite3\u001b[38;5;241m.\u001b[39mconnect(\u001b[38;5;124m'\u001b[39m\u001b[38;5;124mscheduler.db\u001b[39m\u001b[38;5;124m'\u001b[39m)\n\u001b[0;32m----> 9\u001b[0m \u001b[43mdrop_tables\u001b[49m\u001b[43m(\u001b[49m\u001b[43mconn\u001b[49m\u001b[43m,\u001b[49m\u001b[43m \u001b[49m\u001b[43m[\u001b[49m\u001b[43m]\u001b[49m\u001b[43m)\u001b[49m\n\u001b[1;32m     10\u001b[0m create_tables(conn, [\u001b[38;5;124m'\u001b[39m\u001b[38;5;124mspecialists\u001b[39m\u001b[38;5;124m'\u001b[39m])\n\u001b[1;32m     11\u001b[0m fill_test_data_to_tables(conn, n_records \u001b[38;5;241m=\u001b[39m \u001b[38;5;241m400\u001b[39m)\n",
      "\u001b[0;31mTypeError\u001b[0m: drop_tables() takes 1 positional argument but 2 were given"
     ]
    }
   ],
   "source": [
    "from random import randint\n",
    "import datetime\n",
    "import sqlite3\n",
    "from tables import (show_table, drop_tables, create_tables,\n",
    "                    fill_test_data_to_tables, show_full_schedule, \n",
    "                    delete_collisions_by_appointment_time)\n",
    "conn = sqlite3.connect('scheduler.db')\n",
    "\n",
    "drop_tables(conn, [])\n",
    "create_tables(conn, ['specialists'])\n",
    "fill_test_data_to_tables(conn, n_records = 400)\n",
    "delete_collisions_by_appointment_time(conn)\n",
    "show_full_schedule(conn)\n",
    "# show_table(conn, 'work_schedule')\n",
    "# show_table(conn, 'specialists')"
   ]
  },
  {
   "cell_type": "code",
   "execution_count": null,
   "id": "d4ac48d2",
   "metadata": {},
   "outputs": [],
   "source": []
  }
 ],
 "metadata": {
  "kernelspec": {
   "display_name": "Python 3 (ipykernel)",
   "language": "python",
   "name": "python3"
  },
  "language_info": {
   "codemirror_mode": {
    "name": "ipython",
    "version": 3
   },
   "file_extension": ".py",
   "mimetype": "text/x-python",
   "name": "python",
   "nbconvert_exporter": "python",
   "pygments_lexer": "ipython3",
   "version": "3.9.12"
  }
 },
 "nbformat": 4,
 "nbformat_minor": 5
}
