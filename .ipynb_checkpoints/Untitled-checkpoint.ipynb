{
 "cells": [
  {
   "cell_type": "code",
   "execution_count": 1,
   "id": "452a631b",
   "metadata": {},
   "outputs": [
    {
     "name": "stdout",
     "output_type": "stream",
     "text": [
      "Specialists added to specialists table. Customers added to customers table. Test records added to work_schedule table.\n",
      "Collisions deleted successfully.\n"
     ]
    },
    {
     "data": {
      "text/html": [
       "<div>\n",
       "<style scoped>\n",
       "    .dataframe tbody tr th:only-of-type {\n",
       "        vertical-align: middle;\n",
       "    }\n",
       "\n",
       "    .dataframe tbody tr th {\n",
       "        vertical-align: top;\n",
       "    }\n",
       "\n",
       "    .dataframe thead th {\n",
       "        text-align: right;\n",
       "    }\n",
       "</style>\n",
       "<table border=\"1\" class=\"dataframe\">\n",
       "  <thead>\n",
       "    <tr style=\"text-align: right;\">\n",
       "      <th></th>\n",
       "      <th>id</th>\n",
       "      <th>name</th>\n",
       "      <th>phone</th>\n",
       "      <th>telegram_id</th>\n",
       "      <th>work_position</th>\n",
       "    </tr>\n",
       "  </thead>\n",
       "  <tbody>\n",
       "    <tr>\n",
       "      <th>0</th>\n",
       "      <td>1</td>\n",
       "      <td>John Smith</td>\n",
       "      <td>444-2326</td>\n",
       "      <td></td>\n",
       "      <td>Hair Stylist</td>\n",
       "    </tr>\n",
       "    <tr>\n",
       "      <th>1</th>\n",
       "      <td>2</td>\n",
       "      <td>Emily Johnson</td>\n",
       "      <td>444-3453</td>\n",
       "      <td></td>\n",
       "      <td>Nail Technician</td>\n",
       "    </tr>\n",
       "    <tr>\n",
       "      <th>2</th>\n",
       "      <td>3</td>\n",
       "      <td>Илья Тахтамыш</td>\n",
       "      <td>444-7880</td>\n",
       "      <td>Iljattt</td>\n",
       "      <td>Esthetician</td>\n",
       "    </tr>\n",
       "    <tr>\n",
       "      <th>3</th>\n",
       "      <td>4</td>\n",
       "      <td>Jessica Martinez</td>\n",
       "      <td>444-23234</td>\n",
       "      <td></td>\n",
       "      <td>Massage Therapist</td>\n",
       "    </tr>\n",
       "    <tr>\n",
       "      <th>4</th>\n",
       "      <td>5</td>\n",
       "      <td>David Wilson</td>\n",
       "      <td>444-2346</td>\n",
       "      <td></td>\n",
       "      <td>Makeup Artist</td>\n",
       "    </tr>\n",
       "  </tbody>\n",
       "</table>\n",
       "</div>"
      ],
      "text/plain": [
       "   id              name      phone telegram_id      work_position\n",
       "0   1        John Smith   444-2326                   Hair Stylist\n",
       "1   2     Emily Johnson   444-3453                Nail Technician\n",
       "2   3     Илья Тахтамыш   444-7880     Iljattt        Esthetician\n",
       "3   4  Jessica Martinez  444-23234              Massage Therapist\n",
       "4   5      David Wilson   444-2346                  Makeup Artist"
      ]
     },
     "execution_count": 1,
     "metadata": {},
     "output_type": "execute_result"
    }
   ],
   "source": [
    "from random import randint\n",
    "import datetime\n",
    "import sqlite3\n",
    "from tables import (show_table, drop_tables, create_tables,\n",
    "                    fill_test_data_to_tables, show_full_schedule, \n",
    "                    delete_collisions_by_appointment_time)\n",
    "conn = sqlite3.connect('scheduler.db')\n",
    "\n",
    "drop_tables(conn)\n",
    "create_tables(conn)\n",
    "fill_test_data_to_tables(conn, n_records = 400)\n",
    "delete_collisions_by_appointment_time(conn)\n",
    "show_full_schedule(conn)\n",
    "show_table(conn, 'work_schedule')\n",
    "show_table(conn, 'specialists')"
   ]
  }
 ],
 "metadata": {
  "kernelspec": {
   "display_name": "Python 3 (ipykernel)",
   "language": "python",
   "name": "python3"
  },
  "language_info": {
   "codemirror_mode": {
    "name": "ipython",
    "version": 3
   },
   "file_extension": ".py",
   "mimetype": "text/x-python",
   "name": "python",
   "nbconvert_exporter": "python",
   "pygments_lexer": "ipython3",
   "version": "3.9.12"
  }
 },
 "nbformat": 4,
 "nbformat_minor": 5
}
