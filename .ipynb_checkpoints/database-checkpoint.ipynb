{
 "cells": [
  {
   "cell_type": "code",
   "execution_count": 1,
   "id": "03a576d4",
   "metadata": {},
   "outputs": [],
   "source": [
    "import sqlite3\n",
    "import os\n",
    "import functools\n",
    "import pandas \n",
    "import datetime\n",
    "import random "
   ]
  },
  {
   "cell_type": "code",
   "execution_count": null,
   "id": "5f13944e",
   "metadata": {},
   "outputs": [],
   "source": [
    "from aiogram import types, F\n",
    "import pandas as pd\n",
    "from misc import dp\n",
    "from aiogram.types import Message, CallbackQuery\n",
    "from aiogram.filters import Command\n",
    "from kb import specialists_keyboard\n",
    "import sqlite3\n",
    "import os\n",
    "from tables import (create_tables, drop_tables, fill_test_data_to_tables, \n",
    "                    delete_collisions_by_appointment_time, \n",
    "                    delete_duplicates_from_customers, \n",
    "                    delete_duplicates_from_specialists, \n",
    "                    show_table, show_full_schedule, \n",
    "                    show_specialist_schedule, \n",
    "                    insert_appointment)\n",
    "# os.remove('scheduler.db')\n",
    "conn = sqlite3.connect('scheduler.db')   \n",
    "# cursor = conn.cursor()         "
   ]
  },
  {
   "cell_type": "code",
   "execution_count": 8,
   "id": "8efdb05d",
   "metadata": {},
   "outputs": [],
   "source": [
    "# conn.close()"
   ]
  },
  {
   "cell_type": "code",
   "execution_count": 9,
   "id": "987be003",
   "metadata": {},
   "outputs": [
    {
     "name": "stdout",
     "output_type": "stream",
     "text": [
      "Specialists added to specialists table. "
     ]
    }
   ],
   "source": [
    "drop_tables(conn)\n",
    "create_tables(conn)\n",
    "fill_test_data_to_tables(conn, ['specialists'])\n",
    "# fill_test_data_to_tables(conn)\n",
    "# fill_test_data_to_tables(conn)\n",
    "# delete_collisions_by_appointment_time(conn)\n",
    "\n",
    "\n"
   ]
  },
  {
   "cell_type": "code",
   "execution_count": 5,
   "id": "22c5d4e4",
   "metadata": {},
   "outputs": [],
   "source": [
    "# delete_duplicates_from_specialists(conn)\n",
    "# delete_duplicates_from_customers(conn)\n",
    "\n",
    "# specialists = show_table(conn, 'specialists')\n",
    "# [f\"{spec['work_position']} {spec['name']}\" \n",
    "#  for _, spec in specialists.iterrows()]"
   ]
  },
  {
   "cell_type": "code",
   "execution_count": 10,
   "id": "c2f86882",
   "metadata": {},
   "outputs": [
    {
     "data": {
      "text/html": [
       "<div>\n",
       "<style scoped>\n",
       "    .dataframe tbody tr th:only-of-type {\n",
       "        vertical-align: middle;\n",
       "    }\n",
       "\n",
       "    .dataframe tbody tr th {\n",
       "        vertical-align: top;\n",
       "    }\n",
       "\n",
       "    .dataframe thead th {\n",
       "        text-align: right;\n",
       "    }\n",
       "</style>\n",
       "<table border=\"1\" class=\"dataframe\">\n",
       "  <thead>\n",
       "    <tr style=\"text-align: right;\">\n",
       "      <th></th>\n",
       "      <th>id</th>\n",
       "      <th>name</th>\n",
       "      <th>phone</th>\n",
       "      <th>telegram_id</th>\n",
       "      <th>work_position</th>\n",
       "    </tr>\n",
       "  </thead>\n",
       "  <tbody>\n",
       "    <tr>\n",
       "      <th>0</th>\n",
       "      <td>1</td>\n",
       "      <td>John Smith</td>\n",
       "      <td>444-2326</td>\n",
       "      <td></td>\n",
       "      <td>Hair Stylist</td>\n",
       "    </tr>\n",
       "    <tr>\n",
       "      <th>1</th>\n",
       "      <td>2</td>\n",
       "      <td>Emily Johnson</td>\n",
       "      <td>444-3453</td>\n",
       "      <td></td>\n",
       "      <td>Nail Technician</td>\n",
       "    </tr>\n",
       "    <tr>\n",
       "      <th>2</th>\n",
       "      <td>3</td>\n",
       "      <td>Илья Тахтамыш</td>\n",
       "      <td>444-7880</td>\n",
       "      <td>Iljattt_</td>\n",
       "      <td>Esthetician</td>\n",
       "    </tr>\n",
       "    <tr>\n",
       "      <th>3</th>\n",
       "      <td>4</td>\n",
       "      <td>Jessica Martinez</td>\n",
       "      <td>444-23234</td>\n",
       "      <td></td>\n",
       "      <td>Massage Therapist</td>\n",
       "    </tr>\n",
       "    <tr>\n",
       "      <th>4</th>\n",
       "      <td>5</td>\n",
       "      <td>David Wilson</td>\n",
       "      <td>444-2346</td>\n",
       "      <td></td>\n",
       "      <td>Makeup Artist</td>\n",
       "    </tr>\n",
       "  </tbody>\n",
       "</table>\n",
       "</div>"
      ],
      "text/plain": [
       "   id              name      phone telegram_id      work_position\n",
       "0   1        John Smith   444-2326                   Hair Stylist\n",
       "1   2     Emily Johnson   444-3453                Nail Technician\n",
       "2   3     Илья Тахтамыш   444-7880    Iljattt_        Esthetician\n",
       "3   4  Jessica Martinez  444-23234              Massage Therapist\n",
       "4   5      David Wilson   444-2346                  Makeup Artist"
      ]
     },
     "execution_count": 10,
     "metadata": {},
     "output_type": "execute_result"
    }
   ],
   "source": [
    "show_table(conn, 'specialists')"
   ]
  },
  {
   "cell_type": "code",
   "execution_count": 11,
   "id": "96acbd1b",
   "metadata": {},
   "outputs": [
    {
     "ename": "OperationalError",
     "evalue": "no such column: ws.date",
     "output_type": "error",
     "traceback": [
      "\u001b[0;31m---------------------------------------------------------------------------\u001b[0m",
      "\u001b[0;31mOperationalError\u001b[0m                          Traceback (most recent call last)",
      "Input \u001b[0;32mIn [11]\u001b[0m, in \u001b[0;36m<cell line: 1>\u001b[0;34m()\u001b[0m\n\u001b[0;32m----> 1\u001b[0m \u001b[43mshow_full_schedule\u001b[49m\u001b[43m(\u001b[49m\u001b[43mconn\u001b[49m\u001b[43m)\u001b[49m\n",
      "File \u001b[0;32m~/Documents/GitHub/09_Saloonbot/tables.py:17\u001b[0m, in \u001b[0;36mprint_as_dataframe.<locals>.wrapper\u001b[0;34m(*args, **kwargs)\u001b[0m\n\u001b[1;32m     14\u001b[0m \u001b[38;5;129m@wraps\u001b[39m(func)\n\u001b[1;32m     15\u001b[0m \u001b[38;5;28;01mdef\u001b[39;00m \u001b[38;5;21mwrapper\u001b[39m(\u001b[38;5;241m*\u001b[39margs, \u001b[38;5;241m*\u001b[39m\u001b[38;5;241m*\u001b[39mkwargs):\n\u001b[1;32m     16\u001b[0m     \u001b[38;5;66;03m# Вызов оригинальной функции\u001b[39;00m\n\u001b[0;32m---> 17\u001b[0m     result \u001b[38;5;241m=\u001b[39m \u001b[43mfunc\u001b[49m\u001b[43m(\u001b[49m\u001b[38;5;241;43m*\u001b[39;49m\u001b[43margs\u001b[49m\u001b[43m,\u001b[49m\u001b[43m \u001b[49m\u001b[38;5;241;43m*\u001b[39;49m\u001b[38;5;241;43m*\u001b[39;49m\u001b[43mkwargs\u001b[49m\u001b[43m)\u001b[49m        \n\u001b[1;32m     18\u001b[0m     \u001b[38;5;66;03m# Преобразование в датафрйем с описанием колонок\u001b[39;00m\n\u001b[1;32m     19\u001b[0m     df \u001b[38;5;241m=\u001b[39m pd\u001b[38;5;241m.\u001b[39mDataFrame(result, columns\u001b[38;5;241m=\u001b[39m[col[\u001b[38;5;241m0\u001b[39m] \u001b[38;5;28;01mfor\u001b[39;00m col \u001b[38;5;129;01min\u001b[39;00m result\u001b[38;5;241m.\u001b[39mdescription])        \n",
      "File \u001b[0;32m~/Documents/GitHub/09_Saloonbot/tables.py:203\u001b[0m, in \u001b[0;36mshow_full_schedule\u001b[0;34m(conn)\u001b[0m\n\u001b[1;32m    200\u001b[0m \u001b[38;5;250m\u001b[39m\u001b[38;5;124;03m'''Возвращает рабочее расписание в отсортированном по времени записи виде: \u001b[39;00m\n\u001b[1;32m    201\u001b[0m \u001b[38;5;124;03m|дата-время|имя посетителя|телефон|имя специалиста|специальность|  '''\u001b[39;00m\n\u001b[1;32m    202\u001b[0m cursor \u001b[38;5;241m=\u001b[39m conn\u001b[38;5;241m.\u001b[39mcursor()\n\u001b[0;32m--> 203\u001b[0m cursor \u001b[38;5;241m=\u001b[39m \u001b[43mcursor\u001b[49m\u001b[38;5;241;43m.\u001b[39;49m\u001b[43mexecute\u001b[49m\u001b[43m(\u001b[49m\u001b[38;5;124;43m'''\u001b[39;49m\n\u001b[1;32m    204\u001b[0m \u001b[38;5;124;43mSELECT\u001b[39;49m\n\u001b[1;32m    205\u001b[0m \u001b[38;5;124;43m    s.work_position AS spec_pos,\u001b[39;49m\n\u001b[1;32m    206\u001b[0m \u001b[38;5;124;43m    s.name AS s_name,\u001b[39;49m\n\u001b[1;32m    207\u001b[0m \u001b[38;5;124;43m    ws.appointment_date AS date,\u001b[39;49m\n\u001b[1;32m    208\u001b[0m \u001b[38;5;124;43m    ws.appointment_time AS time,\u001b[39;49m\n\u001b[1;32m    209\u001b[0m \u001b[38;5;124;43m    c.name AS c_name,\u001b[39;49m\n\u001b[1;32m    210\u001b[0m \u001b[38;5;124;43m    c.phone AS c_phone\u001b[39;49m\n\u001b[1;32m    211\u001b[0m \u001b[38;5;124;43mFROM\u001b[39;49m\n\u001b[1;32m    212\u001b[0m \u001b[38;5;124;43m    work_schedule ws\u001b[39;49m\n\u001b[1;32m    213\u001b[0m \u001b[38;5;124;43mJOIN\u001b[39;49m\n\u001b[1;32m    214\u001b[0m \u001b[38;5;124;43m    customers c ON ws.customer_id = c.id\u001b[39;49m\n\u001b[1;32m    215\u001b[0m \u001b[38;5;124;43mJOIN\u001b[39;49m\n\u001b[1;32m    216\u001b[0m \u001b[38;5;124;43m    specialists s ON ws.specialist_id = s.id\u001b[39;49m\n\u001b[1;32m    217\u001b[0m \u001b[38;5;124;43mORDER BY\u001b[39;49m\n\u001b[1;32m    218\u001b[0m \u001b[38;5;124;43m    s_name, ws.date, ws.time;\u001b[39;49m\u001b[38;5;124;43m'''\u001b[39;49m\u001b[43m)\u001b[49m\n\u001b[1;32m    220\u001b[0m \u001b[38;5;28;01mreturn\u001b[39;00m cursor\n",
      "\u001b[0;31mOperationalError\u001b[0m: no such column: ws.date"
     ]
    }
   ],
   "source": [
    "show_full_schedule(conn)"
   ]
  },
  {
   "cell_type": "code",
   "execution_count": null,
   "id": "e0b5da31",
   "metadata": {},
   "outputs": [],
   "source": [
    "show_specialist_schedule(conn, 2)"
   ]
  },
  {
   "cell_type": "code",
   "execution_count": null,
   "id": "2f85e24c",
   "metadata": {},
   "outputs": [],
   "source": [
    "appointment_time = '2020-05-10 15:00:00'\n",
    "specialist_id = 2\n",
    "customer_id = 2\n",
    "insert_appointment(conn, specialist_id=specialist_id,\n",
    "                             customer_id=customer_id,\n",
    "                             appointment_time=appointment_time)\n",
    "\n",
    "\n",
    "# conn.close()\n"
   ]
  },
  {
   "cell_type": "code",
   "execution_count": null,
   "id": "b2e69de1",
   "metadata": {},
   "outputs": [],
   "source": []
  }
 ],
 "metadata": {
  "kernelspec": {
   "display_name": "Python 3 (ipykernel)",
   "language": "python",
   "name": "python3"
  },
  "language_info": {
   "codemirror_mode": {
    "name": "ipython",
    "version": 3
   },
   "file_extension": ".py",
   "mimetype": "text/x-python",
   "name": "python",
   "nbconvert_exporter": "python",
   "pygments_lexer": "ipython3",
   "version": "3.9.12"
  }
 },
 "nbformat": 4,
 "nbformat_minor": 5
}
