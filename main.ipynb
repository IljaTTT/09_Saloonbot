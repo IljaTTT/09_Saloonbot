{
 "cells": [
  {
   "cell_type": "code",
   "execution_count": 1,
   "id": "82ef4590-73f7-4d0d-9def-a81478e2f240",
   "metadata": {},
   "outputs": [
    {
     "name": "stderr",
     "output_type": "stream",
     "text": [
      "INFO:aiogram.dispatcher:Start polling\n",
      "INFO:aiogram.dispatcher:Run polling for bot @Recharger224_bot id=6444751690 - 'Recharger'\n",
      "INFO:aiogram.event:Update id=257548484 is handled. Duration 233 ms by bot id=6444751690\n",
      "INFO:aiogram.event:Update id=257548485 is handled. Duration 125 ms by bot id=6444751690\n",
      "INFO:aiogram.event:Update id=257548486 is handled. Duration 93 ms by bot id=6444751690\n"
     ]
    },
    {
     "name": "stdout",
     "output_type": "stream",
     "text": [
      "{'customer_id': 6, 'customer_name': ['erwe90fd98fjw9329', '42349283940'], 'customer_phone': '2342', 'specialist_data': 'Nail Technician Emily Johnson,2'}\n"
     ]
    },
    {
     "name": "stderr",
     "output_type": "stream",
     "text": [
      "INFO:aiogram.event:Update id=257548487 is handled. Duration 77 ms by bot id=6444751690\n"
     ]
    },
    {
     "name": "stdout",
     "output_type": "stream",
     "text": [
      "{'customer_id': 6, 'customer_name': ['erwe90fd98fjw9329', '42349283940'], 'customer_phone': '2342', 'specialist_data': 'Nail Technician Emily Johnson,2', 'day': '2024-02-21'}\n"
     ]
    },
    {
     "name": "stderr",
     "output_type": "stream",
     "text": [
      "INFO:aiogram.event:Update id=257548488 is handled. Duration 108 ms by bot id=6444751690\n"
     ]
    },
    {
     "name": "stdout",
     "output_type": "stream",
     "text": [
      "[2, 6, '2024-02-21 11:00']\n",
      "Appointment successfully scheduled.\n",
      "   appointment_time                         customer_name customer_phone\n",
      "0  2024-02-08 09:00                           Alice Smith       555-1234\n",
      "1  2024-02-08 10:00                           Bob Johnson       555-5678\n",
      "2  2024-02-08 15:00                         Charlie Brown       555-9012\n",
      "3  2024-02-09 10:00                         Charlie Brown       555-9012\n",
      "4  2024-02-09 15:00                        Diana Martinez       555-3456\n",
      "5  2024-02-10 09:30                            Eva Wilson       555-7890\n",
      "6  2024-02-10 12:00                           Alice Smith       555-1234\n",
      "7  2024-02-21 11:00  ['erwe90fd98fjw9329', '42349283940']           2342\n"
     ]
    },
    {
     "name": "stderr",
     "output_type": "stream",
     "text": [
      "INFO:aiogram.dispatcher:Polling stopped\n"
     ]
    },
    {
     "ename": "CancelledError",
     "evalue": "",
     "output_type": "error",
     "traceback": [
      "\u001b[1;31m---------------------------------------------------------------------------\u001b[0m",
      "\u001b[1;31mCancelledError\u001b[0m                            Traceback (most recent call last)",
      "Input \u001b[1;32mIn [1]\u001b[0m, in \u001b[0;36m<cell line: 11>\u001b[1;34m()\u001b[0m\n\u001b[0;32m     12\u001b[0m logging\u001b[38;5;241m.\u001b[39mbasicConfig(level\u001b[38;5;241m=\u001b[39mlogging\u001b[38;5;241m.\u001b[39mINFO)\n\u001b[0;32m     13\u001b[0m \u001b[38;5;66;03m# asyncio.run(main())\u001b[39;00m\n\u001b[1;32m---> 14\u001b[0m \u001b[38;5;28;01mawait\u001b[39;00m main()\n",
      "Input \u001b[1;32mIn [1]\u001b[0m, in \u001b[0;36mmain\u001b[1;34m()\u001b[0m\n\u001b[0;32m      6\u001b[0m \u001b[38;5;28;01masync\u001b[39;00m \u001b[38;5;28;01mdef\u001b[39;00m \u001b[38;5;21mmain\u001b[39m():\n\u001b[0;32m      7\u001b[0m     \u001b[38;5;28;01mawait\u001b[39;00m misc\u001b[38;5;241m.\u001b[39mbot\u001b[38;5;241m.\u001b[39mdelete_webhook(drop_pending_updates\u001b[38;5;241m=\u001b[39m\u001b[38;5;28;01mTrue\u001b[39;00m)\n\u001b[1;32m----> 8\u001b[0m     \u001b[38;5;28;01mawait\u001b[39;00m misc\u001b[38;5;241m.\u001b[39mdp\u001b[38;5;241m.\u001b[39mstart_polling(misc\u001b[38;5;241m.\u001b[39mbot, allowed_updates\u001b[38;5;241m=\u001b[39mmisc\u001b[38;5;241m.\u001b[39mdp\u001b[38;5;241m.\u001b[39mresolve_used_update_types())\n",
      "File \u001b[1;32mC:\\ProgramData\\Anaconda3\\lib\\site-packages\\aiogram\\dispatcher\\dispatcher.py:543\u001b[0m, in \u001b[0;36mDispatcher.start_polling\u001b[1;34m(self, polling_timeout, handle_as_tasks, backoff_config, allowed_updates, handle_signals, close_bot_session, *bots, **kwargs)\u001b[0m\n\u001b[0;32m    529\u001b[0m tasks: List[asyncio\u001b[38;5;241m.\u001b[39mTask[Any]] \u001b[38;5;241m=\u001b[39m [\n\u001b[0;32m    530\u001b[0m     asyncio\u001b[38;5;241m.\u001b[39mcreate_task(\n\u001b[0;32m    531\u001b[0m         \u001b[38;5;28mself\u001b[39m\u001b[38;5;241m.\u001b[39m_polling(\n\u001b[1;32m   (...)\u001b[0m\n\u001b[0;32m    540\u001b[0m     \u001b[38;5;28;01mfor\u001b[39;00m bot \u001b[38;5;129;01min\u001b[39;00m bots\n\u001b[0;32m    541\u001b[0m ]\n\u001b[0;32m    542\u001b[0m tasks\u001b[38;5;241m.\u001b[39mappend(asyncio\u001b[38;5;241m.\u001b[39mcreate_task(\u001b[38;5;28mself\u001b[39m\u001b[38;5;241m.\u001b[39m_stop_signal\u001b[38;5;241m.\u001b[39mwait()))\n\u001b[1;32m--> 543\u001b[0m done, pending \u001b[38;5;241m=\u001b[39m \u001b[38;5;28;01mawait\u001b[39;00m asyncio\u001b[38;5;241m.\u001b[39mwait(tasks, return_when\u001b[38;5;241m=\u001b[39masyncio\u001b[38;5;241m.\u001b[39mFIRST_COMPLETED)\n\u001b[0;32m    545\u001b[0m \u001b[38;5;28;01mfor\u001b[39;00m task \u001b[38;5;129;01min\u001b[39;00m pending:\n\u001b[0;32m    546\u001b[0m     \u001b[38;5;66;03m# (mostly) Graceful shutdown unfinished tasks\u001b[39;00m\n\u001b[0;32m    547\u001b[0m     task\u001b[38;5;241m.\u001b[39mcancel()\n",
      "File \u001b[1;32mC:\\ProgramData\\Anaconda3\\lib\\asyncio\\tasks.py:413\u001b[0m, in \u001b[0;36mwait\u001b[1;34m(fs, loop, timeout, return_when)\u001b[0m\n\u001b[0;32m    406\u001b[0m     warnings\u001b[38;5;241m.\u001b[39mwarn(\u001b[38;5;124m\"\u001b[39m\u001b[38;5;124mThe explicit passing of coroutine objects to \u001b[39m\u001b[38;5;124m\"\u001b[39m\n\u001b[0;32m    407\u001b[0m                   \u001b[38;5;124m\"\u001b[39m\u001b[38;5;124masyncio.wait() is deprecated since Python 3.8, and \u001b[39m\u001b[38;5;124m\"\u001b[39m\n\u001b[0;32m    408\u001b[0m                   \u001b[38;5;124m\"\u001b[39m\u001b[38;5;124mscheduled for removal in Python 3.11.\u001b[39m\u001b[38;5;124m\"\u001b[39m,\n\u001b[0;32m    409\u001b[0m                   \u001b[38;5;167;01mDeprecationWarning\u001b[39;00m, stacklevel\u001b[38;5;241m=\u001b[39m\u001b[38;5;241m2\u001b[39m)\n\u001b[0;32m    411\u001b[0m fs \u001b[38;5;241m=\u001b[39m {ensure_future(f, loop\u001b[38;5;241m=\u001b[39mloop) \u001b[38;5;28;01mfor\u001b[39;00m f \u001b[38;5;129;01min\u001b[39;00m fs}\n\u001b[1;32m--> 413\u001b[0m \u001b[38;5;28;01mreturn\u001b[39;00m \u001b[38;5;28;01mawait\u001b[39;00m _wait(fs, timeout, return_when, loop)\n",
      "File \u001b[1;32mC:\\ProgramData\\Anaconda3\\lib\\asyncio\\tasks.py:525\u001b[0m, in \u001b[0;36m_wait\u001b[1;34m(fs, timeout, return_when, loop)\u001b[0m\n\u001b[0;32m    522\u001b[0m     f\u001b[38;5;241m.\u001b[39madd_done_callback(_on_completion)\n\u001b[0;32m    524\u001b[0m \u001b[38;5;28;01mtry\u001b[39;00m:\n\u001b[1;32m--> 525\u001b[0m     \u001b[38;5;28;01mawait\u001b[39;00m waiter\n\u001b[0;32m    526\u001b[0m \u001b[38;5;28;01mfinally\u001b[39;00m:\n\u001b[0;32m    527\u001b[0m     \u001b[38;5;28;01mif\u001b[39;00m timeout_handle \u001b[38;5;129;01mis\u001b[39;00m \u001b[38;5;129;01mnot\u001b[39;00m \u001b[38;5;28;01mNone\u001b[39;00m:\n",
      "\u001b[1;31mCancelledError\u001b[0m: "
     ]
    }
   ],
   "source": [
    "import misc\n",
    "import handlers\n",
    "import asyncio\n",
    "import logging\n",
    "\n",
    "async def main():\n",
    "    await misc.bot.delete_webhook(drop_pending_updates=True)\n",
    "    await misc.dp.start_polling(misc.bot, allowed_updates=misc.dp.resolve_used_update_types())\n",
    "\n",
    "\n",
    "if __name__ == \"__main__\":\n",
    "    logging.basicConfig(level=logging.INFO)\n",
    "    # asyncio.run(main())\n",
    "    await main()"
   ]
  },
  {
   "cell_type": "code",
   "execution_count": null,
   "id": "e3748d5f",
   "metadata": {},
   "outputs": [],
   "source": [
    "import sqlite3\n",
    "from tables import (\n",
    "#     create_tables, fill_test_data_to_tables,     \n",
    "#     delete_collisions_by_appointment_time, \n",
    "#     delete_duplicates_from_customers, \n",
    "#     delete_duplicates_from_specialists, \n",
    "    show_table, show_full_schedule, \n",
    "    show_specialist_schedule, \n",
    "    insert_appointment\n",
    ")\n",
    "import datetime\n",
    "import pandas as pd\n",
    "from aiogram import types\n",
    "from aiogram.utils.keyboard import InlineKeyboardBuilder\n"
   ]
  }
 ],
 "metadata": {
  "kernelspec": {
   "display_name": "Python 3 (ipykernel)",
   "language": "python",
   "name": "python3"
  },
  "language_info": {
   "codemirror_mode": {
    "name": "ipython",
    "version": 3
   },
   "file_extension": ".py",
   "mimetype": "text/x-python",
   "name": "python",
   "nbconvert_exporter": "python",
   "pygments_lexer": "ipython3",
   "version": "3.9.12"
  }
 },
 "nbformat": 4,
 "nbformat_minor": 5
}
