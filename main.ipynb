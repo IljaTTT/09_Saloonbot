{
 "cells": [
  {
   "cell_type": "code",
   "execution_count": null,
   "id": "82ef4590-73f7-4d0d-9def-a81478e2f240",
   "metadata": {},
   "outputs": [
    {
     "name": "stderr",
     "output_type": "stream",
     "text": [
      "INFO:aiogram.dispatcher:Start polling\n",
      "INFO:aiogram.dispatcher:Run polling for bot @Recharger224_bot id=6444751690 - 'Recharger'\n",
      "INFO:aiogram.event:Update id=257548142 is handled. Duration 326 ms by bot id=6444751690\n",
      "INFO:aiogram.event:Update id=257548143 is handled. Duration 656 ms by bot id=6444751690\n",
      "INFO:aiogram.event:Update id=257548144 is handled. Duration 332 ms by bot id=6444751690\n",
      "INFO:aiogram.event:Update id=257548145 is handled. Duration 322 ms by bot id=6444751690\n",
      "INFO:aiogram.event:Update id=257548146 is handled. Duration 270 ms by bot id=6444751690\n",
      "INFO:aiogram.event:Update id=257548147 is handled. Duration 111 ms by bot id=6444751690\n",
      "INFO:aiogram.event:Update id=257548148 is handled. Duration 530 ms by bot id=6444751690\n",
      "INFO:aiogram.event:Update id=257548149 is handled. Duration 528 ms by bot id=6444751690\n",
      "INFO:aiogram.event:Update id=257548150 is handled. Duration 512 ms by bot id=6444751690\n",
      "INFO:aiogram.event:Update id=257548151 is handled. Duration 349 ms by bot id=6444751690\n",
      "INFO:aiogram.event:Update id=257548152 is handled. Duration 298 ms by bot id=6444751690\n",
      "INFO:aiogram.event:Update id=257548153 is handled. Duration 182 ms by bot id=6444751690\n"
     ]
    }
   ],
   "source": [
    "import misc\n",
    "import handlers\n",
    "import asyncio\n",
    "import logging\n",
    "\n",
    "async def main():\n",
    "    await misc.bot.delete_webhook(drop_pending_updates=True)\n",
    "    await misc.dp.start_polling(misc.bot, allowed_updates=misc.dp.resolve_used_update_types())\n",
    "\n",
    "\n",
    "if __name__ == \"__main__\":\n",
    "    logging.basicConfig(level=logging.INFO)\n",
    "    # asyncio.run(main())\n",
    "    await main()"
   ]
  },
  {
   "cell_type": "code",
   "execution_count": null,
   "id": "e3748d5f",
   "metadata": {},
   "outputs": [],
   "source": [
    "# !pip install aiogram\n"
   ]
  }
 ],
 "metadata": {
  "kernelspec": {
   "display_name": "Python 3 (ipykernel)",
   "language": "python",
   "name": "python3"
  },
  "language_info": {
   "codemirror_mode": {
    "name": "ipython",
    "version": 3
   },
   "file_extension": ".py",
   "mimetype": "text/x-python",
   "name": "python",
   "nbconvert_exporter": "python",
   "pygments_lexer": "ipython3",
   "version": "3.9.12"
  }
 },
 "nbformat": 4,
 "nbformat_minor": 5
}
