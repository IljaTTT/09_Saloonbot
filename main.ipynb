{
 "cells": [
  {
   "cell_type": "code",
   "execution_count": null,
   "id": "82ef4590-73f7-4d0d-9def-a81478e2f240",
   "metadata": {},
   "outputs": [
    {
     "name": "stderr",
     "output_type": "stream",
     "text": [
      "INFO:aiogram.dispatcher:Start polling\n",
      "INFO:aiogram.dispatcher:Run polling for bot @Recharger224_bot id=6444751690 - 'Recharger'\n",
      "INFO:aiogram.event:Update id=257548154 is handled. Duration 293 ms by bot id=6444751690\n",
      "INFO:aiogram.event:Update id=257548155 is handled. Duration 577 ms by bot id=6444751690\n",
      "INFO:aiogram.event:Update id=257548156 is not handled. Duration 0 ms by bot id=6444751690\n",
      "ERROR:aiogram.event:Cause exception while process update id=257548156 by bot id=6444751690\n",
      "ValueError: invalid literal for int() with base 10: '2024-02-13'\n",
      "Traceback (most recent call last):\n",
      "  File \"/home/ilja/anaconda3/lib/python3.9/site-packages/aiogram/dispatcher/dispatcher.py\", line 309, in _process_update\n",
      "    response = await self.feed_update(bot, update, **kwargs)\n",
      "  File \"/home/ilja/anaconda3/lib/python3.9/site-packages/aiogram/dispatcher/dispatcher.py\", line 158, in feed_update\n",
      "    response = await self.update.wrap_outer_middleware(\n",
      "  File \"/home/ilja/anaconda3/lib/python3.9/site-packages/aiogram/dispatcher/middlewares/error.py\", line 25, in __call__\n",
      "    return await handler(event, data)\n",
      "  File \"/home/ilja/anaconda3/lib/python3.9/site-packages/aiogram/dispatcher/middlewares/user_context.py\", line 27, in __call__\n",
      "    return await handler(event, data)\n",
      "  File \"/home/ilja/anaconda3/lib/python3.9/site-packages/aiogram/fsm/middleware.py\", line 41, in __call__\n",
      "    return await handler(event, data)\n",
      "  File \"/home/ilja/anaconda3/lib/python3.9/site-packages/aiogram/dispatcher/event/telegram.py\", line 121, in trigger\n",
      "    return await wrapped_inner(event, kwargs)\n",
      "  File \"/home/ilja/anaconda3/lib/python3.9/site-packages/aiogram/dispatcher/event/handler.py\", line 43, in call\n",
      "    return await wrapped()\n",
      "  File \"/home/ilja/anaconda3/lib/python3.9/site-packages/aiogram/dispatcher/dispatcher.py\", line 276, in _listen_update\n",
      "    return await self.propagate_event(update_type=update_type, event=event, **kwargs)\n",
      "  File \"/home/ilja/anaconda3/lib/python3.9/site-packages/aiogram/dispatcher/router.py\", line 128, in propagate_event\n",
      "    return await observer.wrap_outer_middleware(_wrapped, event=event, data=kwargs)\n",
      "  File \"/home/ilja/anaconda3/lib/python3.9/site-packages/aiogram/dispatcher/router.py\", line 123, in _wrapped\n",
      "    return await self._propagate_event(\n",
      "  File \"/home/ilja/anaconda3/lib/python3.9/site-packages/aiogram/dispatcher/router.py\", line 148, in _propagate_event\n",
      "    response = await observer.trigger(event, **kwargs)\n",
      "  File \"/home/ilja/anaconda3/lib/python3.9/site-packages/aiogram/dispatcher/event/telegram.py\", line 121, in trigger\n",
      "    return await wrapped_inner(event, kwargs)\n",
      "  File \"/home/ilja/anaconda3/lib/python3.9/site-packages/aiogram/dispatcher/event/handler.py\", line 43, in call\n",
      "    return await wrapped()\n",
      "  File \"/home/ilja/Documents/GitHub/09_Saloonbot/handlers.py\", line 71, in specialist_select_handler\n",
      "    await handle_specialist_select(callback_query, state)\n",
      "  File \"/home/ilja/Documents/GitHub/09_Saloonbot/handlers.py\", line 31, in handle_specialist_select\n",
      "    specialist_id = int(specialist_data[-1])\n",
      "ValueError: invalid literal for int() with base 10: '2024-02-13'\n"
     ]
    }
   ],
   "source": [
    "import misc\n",
    "import handlers\n",
    "import asyncio\n",
    "import logging\n",
    "\n",
    "async def main():\n",
    "    await misc.bot.delete_webhook(drop_pending_updates=True)\n",
    "    await misc.dp.start_polling(misc.bot, allowed_updates=misc.dp.resolve_used_update_types())\n",
    "\n",
    "\n",
    "if __name__ == \"__main__\":\n",
    "    logging.basicConfig(level=logging.INFO)\n",
    "    # asyncio.run(main())\n",
    "    await main()"
   ]
  },
  {
   "cell_type": "code",
   "execution_count": null,
   "id": "e3748d5f",
   "metadata": {},
   "outputs": [],
   "source": [
    "# !pip install aiogram\n"
   ]
  }
 ],
 "metadata": {
  "kernelspec": {
   "display_name": "Python 3 (ipykernel)",
   "language": "python",
   "name": "python3"
  },
  "language_info": {
   "codemirror_mode": {
    "name": "ipython",
    "version": 3
   },
   "file_extension": ".py",
   "mimetype": "text/x-python",
   "name": "python",
   "nbconvert_exporter": "python",
   "pygments_lexer": "ipython3",
   "version": "3.9.12"
  }
 },
 "nbformat": 4,
 "nbformat_minor": 5
}
