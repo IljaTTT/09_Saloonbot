{
 "cells": [
  {
   "cell_type": "code",
   "execution_count": null,
   "id": "82ef4590-73f7-4d0d-9def-a81478e2f240",
   "metadata": {},
   "outputs": [
    {
     "name": "stderr",
     "output_type": "stream",
     "text": [
      "INFO:aiogram.dispatcher:Start polling\n",
      "INFO:aiogram.dispatcher:Run polling for bot @Recharger224_bot id=6444751690 - 'Recharger'\n",
      "INFO:aiogram.event:Update id=257548551 is handled. Duration 729 ms by bot id=6444751690\n",
      "INFO:aiogram.event:Update id=257548550 is handled. Duration 4783 ms by bot id=6444751690\n",
      "INFO:aiogram.event:Update id=257548552 is handled. Duration 168 ms by bot id=6444751690\n",
      "INFO:aiogram.event:Update id=257548553 is handled. Duration 128 ms by bot id=6444751690\n"
     ]
    },
    {
     "name": "stdout",
     "output_type": "stream",
     "text": [
      "{'customer_id': 9, 'customer_name': ['def', 'handle_specialist_select'], 'customer_phone': '2342255', 'specialist_data': 'Hair Stylist John Smith,1'}\n",
      "2024-02-12\n"
     ]
    },
    {
     "name": "stderr",
     "output_type": "stream",
     "text": [
      "INFO:aiogram.event:Update id=257548554 is handled. Duration 209 ms by bot id=6444751690\n"
     ]
    },
    {
     "name": "stdout",
     "output_type": "stream",
     "text": [
      "{'customer_id': 9, 'customer_name': ['def', 'handle_specialist_select'], 'customer_phone': '2342255', 'specialist_data': 'Hair Stylist John Smith,1', 'date': '2024-02-12'}\n",
      "[1, 9, '2024-02-12', '13:00']\n",
      "Appointment successfully scheduled.\n"
     ]
    },
    {
     "name": "stderr",
     "output_type": "stream",
     "text": [
      "INFO:aiogram.event:Update id=257548555 is handled. Duration 353 ms by bot id=6444751690\n"
     ]
    },
    {
     "name": "stdout",
     "output_type": "stream",
     "text": [
      "   appointment_date appointment_time                        customer_name  \\\n",
      "0        2024-02-12            08:00                 ['Тахтамыш', 'Илья']   \n",
      "1        2024-02-12            09:00                 ['Тахтамыш', 'Илья']   \n",
      "2        2024-02-12            10:00                             ['Шдоф']   \n",
      "3        2024-02-12            11:00                             ['Шдоф']   \n",
      "4        2024-02-12            12:00                             ['Шдоф']   \n",
      "5        2024-02-12            13:00  ['def', 'handle_specialist_select']   \n",
      "6        2024-02-12            14:00                 ['Тахтамыш', 'Илья']   \n",
      "7        2024-02-12            17:00                 ['Тахтамыш', 'Илья']   \n",
      "8        2024-02-13            11:00                          Alice Smith   \n",
      "9        2024-02-13            15:00                           Eva Wilson   \n",
      "10       2024-02-14            14:00                          Alice Smith   \n",
      "\n",
      "   customer_phone  \n",
      "0        +4555678  \n",
      "1        +4555678  \n",
      "2         2344556  \n",
      "3         2344556  \n",
      "4         2344556  \n",
      "5         2342255  \n",
      "6      +455567833  \n",
      "7        +4555678  \n",
      "8        555-1234  \n",
      "9        555-7890  \n",
      "10       555-1234  \n"
     ]
    },
    {
     "name": "stderr",
     "output_type": "stream",
     "text": [
      "INFO:aiogram.event:Update id=257548556 is not handled. Duration 1 ms by bot id=6444751690\n",
      "INFO:aiogram.event:Update id=257548557 is not handled. Duration 1 ms by bot id=6444751690\n"
     ]
    }
   ],
   "source": [
    "import misc\n",
    "import handlers\n",
    "import asyncio\n",
    "import logging\n",
    "\n",
    "async def main():\n",
    "    await misc.bot.delete_webhook(drop_pending_updates=True)\n",
    "    await misc.dp.start_polling(misc.bot, allowed_updates=misc.dp.resolve_used_update_types())\n",
    "\n",
    "\n",
    "if __name__ == \"__main__\":\n",
    "    logging.basicConfig(level=logging.INFO)\n",
    "    # asyncio.run(main())\n",
    "    await main()"
   ]
  },
  {
   "cell_type": "code",
   "execution_count": null,
   "id": "e3748d5f",
   "metadata": {},
   "outputs": [],
   "source": [
    "import sqlite3\n",
    "from tables import (\n",
    "#     create_tables, fill_test_data_to_tables,     \n",
    "#     delete_collisions_by_appointment_time, \n",
    "#     delete_duplicates_from_customers, \n",
    "#     delete_duplicates_from_specialists, \n",
    "    show_table, show_full_schedule, \n",
    "    show_specialist_schedule, \n",
    "    insert_appointment\n",
    ")\n",
    "import datetime\n",
    "import pandas as pd\n",
    "from aiogram import types\n",
    "from aiogram.utils.keyboard import InlineKeyboardBuilder\n"
   ]
  }
 ],
 "metadata": {
  "kernelspec": {
   "display_name": "Python 3 (ipykernel)",
   "language": "python",
   "name": "python3"
  },
  "language_info": {
   "codemirror_mode": {
    "name": "ipython",
    "version": 3
   },
   "file_extension": ".py",
   "mimetype": "text/x-python",
   "name": "python",
   "nbconvert_exporter": "python",
   "pygments_lexer": "ipython3",
   "version": "3.9.12"
  }
 },
 "nbformat": 4,
 "nbformat_minor": 5
}
