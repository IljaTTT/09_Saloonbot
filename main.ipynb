{
 "cells": [
  {
   "cell_type": "code",
   "execution_count": null,
   "id": "82ef4590-73f7-4d0d-9def-a81478e2f240",
   "metadata": {},
   "outputs": [
    {
     "name": "stderr",
     "output_type": "stream",
     "text": [
      "INFO:aiogram.dispatcher:Start polling\n",
      "INFO:aiogram.dispatcher:Run polling for bot @Recharger224_bot id=6444751690 - 'Recharger'\n",
      "INFO:aiogram.event:Update id=257549825 is handled. Duration 296 ms by bot id=6444751690\n",
      "INFO:aiogram.event:Update id=257549826 is handled. Duration 106 ms by bot id=6444751690\n",
      "INFO:aiogram.event:Update id=257549827 is handled. Duration 107 ms by bot id=6444751690\n",
      "INFO:aiogram.event:Update id=257549828 is handled. Duration 200 ms by bot id=6444751690\n"
     ]
    },
    {
     "name": "stdout",
     "output_type": "stream",
     "text": [
      "2024-02-27\n",
      "Appointment successfully scheduled.\n"
     ]
    },
    {
     "name": "stderr",
     "output_type": "stream",
     "text": [
      "INFO:aiogram.event:Update id=257549829 is handled. Duration 322 ms by bot id=6444751690\n",
      "INFO:aiogram.event:Update id=257549830 is handled. Duration 103 ms by bot id=6444751690\n"
     ]
    },
    {
     "name": "stdout",
     "output_type": "stream",
     "text": [
      "END\n"
     ]
    },
    {
     "name": "stderr",
     "output_type": "stream",
     "text": [
      "INFO:aiogram.event:Update id=257549831 is handled. Duration 95 ms by bot id=6444751690\n",
      "INFO:aiogram.event:Update id=257549832 is handled. Duration 121 ms by bot id=6444751690\n",
      "INFO:aiogram.event:Update id=257549833 is handled. Duration 111 ms by bot id=6444751690\n",
      "INFO:aiogram.event:Update id=257549834 is handled. Duration 103 ms by bot id=6444751690\n"
     ]
    },
    {
     "name": "stdout",
     "output_type": "stream",
     "text": [
      "2024-02-27\n",
      "Appointment successfully scheduled.\n"
     ]
    },
    {
     "name": "stderr",
     "output_type": "stream",
     "text": [
      "INFO:aiogram.event:Update id=257549835 is handled. Duration 236 ms by bot id=6444751690\n",
      "INFO:aiogram.event:Update id=257549836 is handled. Duration 104 ms by bot id=6444751690\n",
      "INFO:aiogram.event:Update id=257549837 is handled. Duration 160 ms by bot id=6444751690\n",
      "INFO:aiogram.event:Update id=257549838 is handled. Duration 135 ms by bot id=6444751690\n",
      "INFO:aiogram.event:Update id=257549839 is handled. Duration 290 ms by bot id=6444751690\n",
      "INFO:aiogram.event:Update id=257549840 is handled. Duration 165 ms by bot id=6444751690\n",
      "INFO:aiogram.event:Update id=257549841 is handled. Duration 103 ms by bot id=6444751690\n",
      "INFO:aiogram.event:Update id=257549842 is handled. Duration 201 ms by bot id=6444751690\n"
     ]
    },
    {
     "name": "stdout",
     "output_type": "stream",
     "text": [
      "2024-02-16\n",
      "Appointment successfully scheduled.\n"
     ]
    },
    {
     "name": "stderr",
     "output_type": "stream",
     "text": [
      "INFO:aiogram.event:Update id=257549843 is handled. Duration 118 ms by bot id=6444751690\n"
     ]
    },
    {
     "name": "stdout",
     "output_type": "stream",
     "text": [
      "END\n"
     ]
    }
   ],
   "source": [
    "import misc\n",
    "import handlers\n",
    "import asyncio\n",
    "import logging\n",
    "\n",
    "async def main():\n",
    "    await misc.bot.delete_webhook(drop_pending_updates=True)\n",
    "    await misc.dp.start_polling(misc.bot, allowed_updates=misc.dp.resolve_used_update_types())\n",
    "\n",
    "\n",
    "if __name__ == \"__main__\":\n",
    "    logging.basicConfig(level=logging.INFO)\n",
    "    # asyncio.run(main())\n",
    "    await main()"
   ]
  },
  {
   "cell_type": "code",
   "execution_count": null,
   "id": "4d28ea95",
   "metadata": {},
   "outputs": [],
   "source": [
    " \n",
    "    "
   ]
  },
  {
   "cell_type": "code",
   "execution_count": null,
   "id": "e1be63de",
   "metadata": {},
   "outputs": [],
   "source": []
  },
  {
   "cell_type": "code",
   "execution_count": null,
   "id": "a55baaa8",
   "metadata": {},
   "outputs": [],
   "source": []
  }
 ],
 "metadata": {
  "kernelspec": {
   "display_name": "Python 3 (ipykernel)",
   "language": "python",
   "name": "python3"
  },
  "language_info": {
   "codemirror_mode": {
    "name": "ipython",
    "version": 3
   },
   "file_extension": ".py",
   "mimetype": "text/x-python",
   "name": "python",
   "nbconvert_exporter": "python",
   "pygments_lexer": "ipython3",
   "version": "3.9.12"
  }
 },
 "nbformat": 4,
 "nbformat_minor": 5
}
