{
 "cells": [
  {
   "cell_type": "code",
   "execution_count": null,
   "id": "82ef4590-73f7-4d0d-9def-a81478e2f240",
   "metadata": {},
   "outputs": [
    {
     "name": "stderr",
     "output_type": "stream",
     "text": [
      "INFO:aiogram.dispatcher:Start polling\n",
      "INFO:aiogram.dispatcher:Run polling for bot @Recharger224_bot id=6444751690 - 'Recharger'\n",
      "INFO:aiogram.event:Update id=257549844 is handled. Duration 250 ms by bot id=6444751690\n",
      "INFO:aiogram.event:Update id=257549845 is handled. Duration 156 ms by bot id=6444751690\n",
      "INFO:aiogram.event:Update id=257549846 is handled. Duration 172 ms by bot id=6444751690\n",
      "INFO:aiogram.event:Update id=257549847 is handled. Duration 234 ms by bot id=6444751690\n"
     ]
    },
    {
     "name": "stdout",
     "output_type": "stream",
     "text": [
      "2024-02-17\n",
      "Appointment successfully scheduled.\n"
     ]
    },
    {
     "name": "stderr",
     "output_type": "stream",
     "text": [
      "INFO:aiogram.event:Update id=257549848 is handled. Duration 219 ms by bot id=6444751690\n"
     ]
    },
    {
     "name": "stdout",
     "output_type": "stream",
     "text": [
      "END\n"
     ]
    },
    {
     "name": "stderr",
     "output_type": "stream",
     "text": [
      "INFO:aiogram.event:Update id=257549849 is handled. Duration 312 ms by bot id=6444751690\n"
     ]
    }
   ],
   "source": [
    "import misc\n",
    "import handlers\n",
    "import asyncio\n",
    "import logging\n",
    "\n",
    "async def main():\n",
    "    await misc.bot.delete_webhook(drop_pending_updates=True)\n",
    "    await misc.dp.start_polling(misc.bot, allowed_updates=misc.dp.resolve_used_update_types())\n",
    "\n",
    "\n",
    "if __name__ == \"__main__\":\n",
    "    logging.basicConfig(level=logging.INFO)\n",
    "    # asyncio.run(main())\n",
    "    await main()"
   ]
  },
  {
   "cell_type": "code",
   "execution_count": null,
   "id": "4d28ea95",
   "metadata": {},
   "outputs": [],
   "source": [
    " \n",
    "    "
   ]
  },
  {
   "cell_type": "code",
   "execution_count": null,
   "id": "e1be63de",
   "metadata": {},
   "outputs": [],
   "source": []
  },
  {
   "cell_type": "code",
   "execution_count": null,
   "id": "a55baaa8",
   "metadata": {},
   "outputs": [],
   "source": []
  }
 ],
 "metadata": {
  "kernelspec": {
   "display_name": "Python 3 (ipykernel)",
   "language": "python",
   "name": "python3"
  },
  "language_info": {
   "codemirror_mode": {
    "name": "ipython",
    "version": 3
   },
   "file_extension": ".py",
   "mimetype": "text/x-python",
   "name": "python",
   "nbconvert_exporter": "python",
   "pygments_lexer": "ipython3",
   "version": "3.9.12"
  }
 },
 "nbformat": 4,
 "nbformat_minor": 5
}
