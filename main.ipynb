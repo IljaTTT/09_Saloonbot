{
 "cells": [
  {
   "cell_type": "code",
   "execution_count": null,
   "id": "82ef4590-73f7-4d0d-9def-a81478e2f240",
   "metadata": {},
   "outputs": [
    {
     "name": "stderr",
     "output_type": "stream",
     "text": [
      "INFO:aiogram.dispatcher:Start polling\n",
      "INFO:aiogram.dispatcher:Run polling for bot @Recharger224_bot id=6444751690 - 'Recharger'\n",
      "INFO:aiogram.event:Update id=257548606 is handled. Duration 295 ms by bot id=6444751690\n",
      "INFO:aiogram.event:Update id=257548607 is handled. Duration 112 ms by bot id=6444751690\n"
     ]
    },
    {
     "name": "stdout",
     "output_type": "stream",
     "text": [
      "dict_keys([])\n"
     ]
    },
    {
     "name": "stderr",
     "output_type": "stream",
     "text": [
      "INFO:aiogram.event:Update id=257548608 is handled. Duration 104 ms by bot id=6444751690\n",
      "INFO:aiogram.event:Update id=257548609 is handled. Duration 165 ms by bot id=6444751690\n"
     ]
    },
    {
     "name": "stdout",
     "output_type": "stream",
     "text": [
      "Appointment successfully scheduled.\n"
     ]
    },
    {
     "name": "stderr",
     "output_type": "stream",
     "text": [
      "INFO:aiogram.event:Update id=257548610 is handled. Duration 402 ms by bot id=6444751690\n"
     ]
    },
    {
     "name": "stdout",
     "output_type": "stream",
     "text": [
      "  appointment_date appointment_time        customer_name customer_phone\n",
      "0       2024-02-13            08:00  ['234234', 'v2234']          28234\n",
      "1       2024-02-13            15:00          Alice Smith       555-1234\n",
      "2       2024-02-14            16:00          Bob Johnson       555-5678\n"
     ]
    },
    {
     "name": "stderr",
     "output_type": "stream",
     "text": [
      "INFO:aiogram.event:Update id=257548611 is handled. Duration 97 ms by bot id=6444751690\n"
     ]
    },
    {
     "name": "stdout",
     "output_type": "stream",
     "text": [
      "dict_keys(['customer_id', 'customer_name', 'customer_phone', 'message_', 'specialist_data', 'date', 'time'])\n"
     ]
    },
    {
     "name": "stderr",
     "output_type": "stream",
     "text": [
      "INFO:aiogram.event:Update id=257548612 is handled. Duration 303 ms by bot id=6444751690\n",
      "INFO:aiogram.event:Update id=257548613 is handled. Duration 136 ms by bot id=6444751690\n"
     ]
    },
    {
     "name": "stdout",
     "output_type": "stream",
     "text": [
      "Appointment successfully scheduled.\n"
     ]
    },
    {
     "name": "stderr",
     "output_type": "stream",
     "text": [
      "INFO:aiogram.event:Update id=257548614 is handled. Duration 457 ms by bot id=6444751690\n"
     ]
    },
    {
     "name": "stdout",
     "output_type": "stream",
     "text": [
      "  appointment_date appointment_time        customer_name customer_phone\n",
      "0       2024-02-12            09:00   ['sdfsf', '42342']            dfw\n",
      "1       2024-02-12            10:00   ['23452', '293u4']            242\n",
      "2       2024-02-13            11:00  ['234234', 'v2234']          28234\n",
      "3       2024-02-13            13:00          Bob Johnson       555-5678\n",
      "4       2024-02-14            08:00        Charlie Brown       555-9012\n"
     ]
    },
    {
     "name": "stderr",
     "output_type": "stream",
     "text": [
      "INFO:aiogram.event:Update id=257548615 is handled. Duration 108 ms by bot id=6444751690\n"
     ]
    },
    {
     "name": "stdout",
     "output_type": "stream",
     "text": [
      "dict_keys(['customer_id', 'customer_name', 'customer_phone', 'message_', 'specialist_data', 'date', 'time'])\n"
     ]
    },
    {
     "name": "stderr",
     "output_type": "stream",
     "text": [
      "INFO:aiogram.event:Update id=257548616 is handled. Duration 112 ms by bot id=6444751690\n",
      "INFO:aiogram.event:Update id=257548617 is handled. Duration 107 ms by bot id=6444751690\n"
     ]
    },
    {
     "name": "stdout",
     "output_type": "stream",
     "text": [
      "Appointment successfully scheduled.\n"
     ]
    },
    {
     "name": "stderr",
     "output_type": "stream",
     "text": [
      "INFO:aiogram.event:Update id=257548618 is handled. Duration 238 ms by bot id=6444751690\n"
     ]
    },
    {
     "name": "stdout",
     "output_type": "stream",
     "text": [
      "  appointment_date appointment_time        customer_name customer_phone\n",
      "0       2024-02-13            08:00  ['234234', 'v2234']          28234\n",
      "1       2024-02-13            15:00          Alice Smith       555-1234\n",
      "2       2024-02-14            16:00          Bob Johnson       555-5678\n",
      "3       2024-02-16            16:00  ['234234', 'v2234']          28234\n"
     ]
    },
    {
     "name": "stderr",
     "output_type": "stream",
     "text": [
      "INFO:aiogram.event:Update id=257548619 is handled. Duration 120 ms by bot id=6444751690\n"
     ]
    },
    {
     "name": "stdout",
     "output_type": "stream",
     "text": [
      "dict_keys(['customer_id', 'customer_name', 'customer_phone', 'message_', 'specialist_data', 'date', 'time'])\n"
     ]
    },
    {
     "name": "stderr",
     "output_type": "stream",
     "text": [
      "INFO:aiogram.event:Update id=257548620 is handled. Duration 132 ms by bot id=6444751690\n",
      "INFO:aiogram.event:Update id=257548621 is handled. Duration 105 ms by bot id=6444751690\n"
     ]
    },
    {
     "name": "stdout",
     "output_type": "stream",
     "text": [
      "Appointment successfully scheduled.\n"
     ]
    },
    {
     "name": "stderr",
     "output_type": "stream",
     "text": [
      "INFO:aiogram.event:Update id=257548622 is handled. Duration 256 ms by bot id=6444751690\n"
     ]
    },
    {
     "name": "stdout",
     "output_type": "stream",
     "text": [
      "   appointment_date appointment_time                        customer_name  \\\n",
      "0        2024-02-12            08:00                 ['Тахтамыш', 'Илья']   \n",
      "1        2024-02-12            09:00                 ['Тахтамыш', 'Илья']   \n",
      "2        2024-02-12            10:00                             ['Шдоф']   \n",
      "3        2024-02-12            11:00                             ['Шдоф']   \n",
      "4        2024-02-12            12:00                             ['Шдоф']   \n",
      "5        2024-02-12            13:00  ['def', 'handle_specialist_select']   \n",
      "6        2024-02-12            14:00                 ['Тахтамыш', 'Илья']   \n",
      "7        2024-02-12            15:00                          ['3453453']   \n",
      "8        2024-02-12            16:00                     ['453', '3rdfg']   \n",
      "9        2024-02-12            17:00                 ['Тахтамыш', 'Илья']   \n",
      "10       2024-02-12       2024-02-13                  ['234234', 'v2234']   \n",
      "11       2024-02-13            08:00                  ['342423', '42342']   \n",
      "12       2024-02-13            11:00                          Alice Smith   \n",
      "13       2024-02-13            15:00                           Eva Wilson   \n",
      "14       2024-02-14            14:00                          Alice Smith   \n",
      "\n",
      "   customer_phone  \n",
      "0        +4555678  \n",
      "1        +4555678  \n",
      "2         2344556  \n",
      "3         2344556  \n",
      "4         2344556  \n",
      "5         2342255  \n",
      "6      +455567833  \n",
      "7           2424r  \n",
      "8             dsg  \n",
      "9        +4555678  \n",
      "10          28234  \n",
      "11             23  \n",
      "12       555-1234  \n",
      "13       555-7890  \n",
      "14       555-1234  \n"
     ]
    },
    {
     "name": "stderr",
     "output_type": "stream",
     "text": [
      "INFO:aiogram.event:Update id=257548623 is handled. Duration 2 ms by bot id=6444751690\n",
      "INFO:aiogram.event:Update id=257548624 is not handled. Duration 2 ms by bot id=6444751690\n",
      "INFO:aiogram.event:Update id=257548625 is not handled. Duration 2 ms by bot id=6444751690\n",
      "INFO:aiogram.event:Update id=257548626 is not handled. Duration 2 ms by bot id=6444751690\n",
      "INFO:aiogram.event:Update id=257548627 is not handled. Duration 2 ms by bot id=6444751690\n",
      "INFO:aiogram.event:Update id=257548628 is handled. Duration 245 ms by bot id=6444751690\n",
      "INFO:aiogram.event:Update id=257548629 is handled. Duration 137 ms by bot id=6444751690\n"
     ]
    },
    {
     "name": "stdout",
     "output_type": "stream",
     "text": [
      "dict_keys([])\n"
     ]
    },
    {
     "name": "stderr",
     "output_type": "stream",
     "text": [
      "INFO:aiogram.event:Update id=257548630 is handled. Duration 99 ms by bot id=6444751690\n",
      "INFO:aiogram.event:Update id=257548631 is handled. Duration 137 ms by bot id=6444751690\n",
      "INFO:aiogram.event:Update id=257548632 is not handled. Duration 1 ms by bot id=6444751690\n",
      "ERROR:aiogram.event:Cause exception while process update id=257548632 by bot id=6444751690\n",
      "ValueError: not enough values to unpack (expected 2, got 1)\n",
      "Traceback (most recent call last):\n",
      "  File \"/home/ilja/anaconda3/lib/python3.9/site-packages/aiogram/dispatcher/dispatcher.py\", line 309, in _process_update\n",
      "    response = await self.feed_update(bot, update, **kwargs)\n",
      "  File \"/home/ilja/anaconda3/lib/python3.9/site-packages/aiogram/dispatcher/dispatcher.py\", line 158, in feed_update\n",
      "    response = await self.update.wrap_outer_middleware(\n",
      "  File \"/home/ilja/anaconda3/lib/python3.9/site-packages/aiogram/dispatcher/middlewares/error.py\", line 25, in __call__\n",
      "    return await handler(event, data)\n",
      "  File \"/home/ilja/anaconda3/lib/python3.9/site-packages/aiogram/dispatcher/middlewares/user_context.py\", line 27, in __call__\n",
      "    return await handler(event, data)\n",
      "  File \"/home/ilja/anaconda3/lib/python3.9/site-packages/aiogram/fsm/middleware.py\", line 41, in __call__\n",
      "    return await handler(event, data)\n",
      "  File \"/home/ilja/anaconda3/lib/python3.9/site-packages/aiogram/dispatcher/event/telegram.py\", line 121, in trigger\n",
      "    return await wrapped_inner(event, kwargs)\n",
      "  File \"/home/ilja/anaconda3/lib/python3.9/site-packages/aiogram/dispatcher/event/handler.py\", line 43, in call\n",
      "    return await wrapped()\n",
      "  File \"/home/ilja/anaconda3/lib/python3.9/site-packages/aiogram/dispatcher/dispatcher.py\", line 276, in _listen_update\n",
      "    return await self.propagate_event(update_type=update_type, event=event, **kwargs)\n",
      "  File \"/home/ilja/anaconda3/lib/python3.9/site-packages/aiogram/dispatcher/router.py\", line 128, in propagate_event\n",
      "    return await observer.wrap_outer_middleware(_wrapped, event=event, data=kwargs)\n",
      "  File \"/home/ilja/anaconda3/lib/python3.9/site-packages/aiogram/dispatcher/router.py\", line 123, in _wrapped\n",
      "    return await self._propagate_event(\n",
      "  File \"/home/ilja/anaconda3/lib/python3.9/site-packages/aiogram/dispatcher/router.py\", line 148, in _propagate_event\n",
      "    response = await observer.trigger(event, **kwargs)\n",
      "  File \"/home/ilja/anaconda3/lib/python3.9/site-packages/aiogram/dispatcher/event/telegram.py\", line 121, in trigger\n",
      "    return await wrapped_inner(event, kwargs)\n",
      "  File \"/home/ilja/anaconda3/lib/python3.9/site-packages/aiogram/dispatcher/event/handler.py\", line 43, in call\n",
      "    return await wrapped()\n",
      "  File \"/home/ilja/Documents/GitHub/09_Saloonbot/handlers.py\", line 95, in handle_time_selected\n",
      "    specialist, specialist_id = specialist_data.split(',')\n",
      "ValueError: not enough values to unpack (expected 2, got 1)\n",
      "INFO:aiogram.event:Update id=257548633 is not handled. Duration 1 ms by bot id=6444751690\n",
      "ERROR:aiogram.event:Cause exception while process update id=257548633 by bot id=6444751690\n",
      "ValueError: not enough values to unpack (expected 2, got 1)\n",
      "Traceback (most recent call last):\n",
      "  File \"/home/ilja/anaconda3/lib/python3.9/site-packages/aiogram/dispatcher/dispatcher.py\", line 309, in _process_update\n",
      "    response = await self.feed_update(bot, update, **kwargs)\n",
      "  File \"/home/ilja/anaconda3/lib/python3.9/site-packages/aiogram/dispatcher/dispatcher.py\", line 158, in feed_update\n",
      "    response = await self.update.wrap_outer_middleware(\n",
      "  File \"/home/ilja/anaconda3/lib/python3.9/site-packages/aiogram/dispatcher/middlewares/error.py\", line 25, in __call__\n",
      "    return await handler(event, data)\n",
      "  File \"/home/ilja/anaconda3/lib/python3.9/site-packages/aiogram/dispatcher/middlewares/user_context.py\", line 27, in __call__\n",
      "    return await handler(event, data)\n",
      "  File \"/home/ilja/anaconda3/lib/python3.9/site-packages/aiogram/fsm/middleware.py\", line 41, in __call__\n",
      "    return await handler(event, data)\n",
      "  File \"/home/ilja/anaconda3/lib/python3.9/site-packages/aiogram/dispatcher/event/telegram.py\", line 121, in trigger\n",
      "    return await wrapped_inner(event, kwargs)\n",
      "  File \"/home/ilja/anaconda3/lib/python3.9/site-packages/aiogram/dispatcher/event/handler.py\", line 43, in call\n",
      "    return await wrapped()\n",
      "  File \"/home/ilja/anaconda3/lib/python3.9/site-packages/aiogram/dispatcher/dispatcher.py\", line 276, in _listen_update\n",
      "    return await self.propagate_event(update_type=update_type, event=event, **kwargs)\n",
      "  File \"/home/ilja/anaconda3/lib/python3.9/site-packages/aiogram/dispatcher/router.py\", line 128, in propagate_event\n",
      "    return await observer.wrap_outer_middleware(_wrapped, event=event, data=kwargs)\n",
      "  File \"/home/ilja/anaconda3/lib/python3.9/site-packages/aiogram/dispatcher/router.py\", line 123, in _wrapped\n",
      "    return await self._propagate_event(\n",
      "  File \"/home/ilja/anaconda3/lib/python3.9/site-packages/aiogram/dispatcher/router.py\", line 148, in _propagate_event\n",
      "    response = await observer.trigger(event, **kwargs)\n",
      "  File \"/home/ilja/anaconda3/lib/python3.9/site-packages/aiogram/dispatcher/event/telegram.py\", line 121, in trigger\n",
      "    return await wrapped_inner(event, kwargs)\n",
      "  File \"/home/ilja/anaconda3/lib/python3.9/site-packages/aiogram/dispatcher/event/handler.py\", line 43, in call\n",
      "    return await wrapped()\n",
      "  File \"/home/ilja/Documents/GitHub/09_Saloonbot/handlers.py\", line 95, in handle_time_selected\n",
      "    specialist, specialist_id = specialist_data.split(',')\n",
      "ValueError: not enough values to unpack (expected 2, got 1)\n",
      "INFO:aiogram.event:Update id=257548634 is handled. Duration 308 ms by bot id=6444751690\n",
      "INFO:aiogram.event:Update id=257548635 is handled. Duration 93 ms by bot id=6444751690\n",
      "INFO:aiogram.event:Update id=257548636 is handled. Duration 163 ms by bot id=6444751690\n"
     ]
    },
    {
     "name": "stdout",
     "output_type": "stream",
     "text": [
      "dict_keys(['customer_id', 'customer_name', 'customer_phone', 'message_', 'specialist_data', 'date', 'time'])\n"
     ]
    },
    {
     "name": "stderr",
     "output_type": "stream",
     "text": [
      "INFO:aiogram.event:Update id=257548637 is handled. Duration 166 ms by bot id=6444751690\n",
      "INFO:aiogram.event:Update id=257548638 is handled. Duration 132 ms by bot id=6444751690\n"
     ]
    },
    {
     "name": "stdout",
     "output_type": "stream",
     "text": [
      "Appointment successfully scheduled.\n"
     ]
    },
    {
     "name": "stderr",
     "output_type": "stream",
     "text": [
      "INFO:aiogram.event:Update id=257548639 is handled. Duration 309 ms by bot id=6444751690\n"
     ]
    },
    {
     "name": "stdout",
     "output_type": "stream",
     "text": [
      "  appointment_date appointment_time        customer_name customer_phone\n",
      "0       2024-02-13            08:00  ['234234', 'v2234']          28234\n",
      "1       2024-02-13            10:00  ['342423', '42342']             23\n",
      "2       2024-02-13            15:00          Alice Smith       555-1234\n",
      "3       2024-02-14            16:00          Bob Johnson       555-5678\n",
      "4       2024-02-16            16:00  ['234234', 'v2234']          28234\n"
     ]
    },
    {
     "name": "stderr",
     "output_type": "stream",
     "text": [
      "INFO:aiogram.event:Update id=257548640 is handled. Duration 200 ms by bot id=6444751690\n"
     ]
    },
    {
     "name": "stdout",
     "output_type": "stream",
     "text": [
      "dict_keys(['customer_id', 'customer_name', 'customer_phone', 'message_', 'specialist_data', 'date', 'time'])\n"
     ]
    },
    {
     "name": "stderr",
     "output_type": "stream",
     "text": [
      "INFO:aiogram.event:Update id=257548641 is handled. Duration 105 ms by bot id=6444751690\n",
      "INFO:aiogram.event:Update id=257548642 is handled. Duration 110 ms by bot id=6444751690\n"
     ]
    },
    {
     "name": "stdout",
     "output_type": "stream",
     "text": [
      "Appointment successfully scheduled.\n"
     ]
    },
    {
     "name": "stderr",
     "output_type": "stream",
     "text": [
      "INFO:aiogram.event:Update id=257548643 is handled. Duration 234 ms by bot id=6444751690\n"
     ]
    },
    {
     "name": "stdout",
     "output_type": "stream",
     "text": [
      "  appointment_date appointment_time        customer_name customer_phone\n",
      "0       2024-02-13            08:00  ['234234', 'v2234']          28234\n",
      "1       2024-02-13            10:00  ['342423', '42342']             23\n",
      "2       2024-02-13            15:00          Alice Smith       555-1234\n",
      "3       2024-02-14            16:00          Bob Johnson       555-5678\n",
      "4       2024-02-16            16:00  ['234234', 'v2234']          28234\n",
      "5       2024-02-17            14:00  ['342423', '42342']             23\n"
     ]
    },
    {
     "name": "stderr",
     "output_type": "stream",
     "text": [
      "INFO:aiogram.event:Update id=257548644 is handled. Duration 98 ms by bot id=6444751690\n"
     ]
    },
    {
     "name": "stdout",
     "output_type": "stream",
     "text": [
      "dict_keys(['customer_id', 'customer_name', 'customer_phone', 'message_', 'specialist_data', 'date', 'time'])\n"
     ]
    },
    {
     "name": "stderr",
     "output_type": "stream",
     "text": [
      "INFO:aiogram.event:Update id=257548645 is handled. Duration 101 ms by bot id=6444751690\n",
      "INFO:aiogram.event:Update id=257548646 is handled. Duration 114 ms by bot id=6444751690\n"
     ]
    },
    {
     "name": "stdout",
     "output_type": "stream",
     "text": [
      "Appointment successfully scheduled.\n"
     ]
    },
    {
     "name": "stderr",
     "output_type": "stream",
     "text": [
      "INFO:aiogram.event:Update id=257548647 is handled. Duration 384 ms by bot id=6444751690\n"
     ]
    },
    {
     "name": "stdout",
     "output_type": "stream",
     "text": [
      "  appointment_date appointment_time        customer_name customer_phone\n",
      "0       2024-02-13            12:00        Charlie Brown       555-9012\n",
      "1       2024-02-13            13:00       Diana Martinez       555-3456\n",
      "2       2024-02-14            16:00       Diana Martinez       555-3456\n",
      "3       2024-02-14            18:00           Eva Wilson       555-7890\n",
      "4       2024-02-15            17:00  ['342423', '42342']             23\n"
     ]
    },
    {
     "name": "stderr",
     "output_type": "stream",
     "text": [
      "INFO:aiogram.event:Update id=257548648 is handled. Duration 194 ms by bot id=6444751690\n"
     ]
    },
    {
     "name": "stdout",
     "output_type": "stream",
     "text": [
      "dict_keys(['customer_id', 'customer_name', 'customer_phone', 'message_', 'specialist_data', 'date', 'time'])\n"
     ]
    },
    {
     "name": "stderr",
     "output_type": "stream",
     "text": [
      "INFO:aiogram.event:Update id=257548649 is handled. Duration 189 ms by bot id=6444751690\n",
      "INFO:aiogram.event:Update id=257548650 is handled. Duration 117 ms by bot id=6444751690\n",
      "INFO:aiogram.event:Update id=257548651 is handled. Duration 208 ms by bot id=6444751690\n"
     ]
    },
    {
     "name": "stdout",
     "output_type": "stream",
     "text": [
      "Appointment successfully scheduled.\n",
      "  appointment_date appointment_time        customer_name customer_phone\n",
      "0       2024-02-12            09:00   ['sdfsf', '42342']            dfw\n",
      "1       2024-02-12            10:00   ['23452', '293u4']            242\n",
      "2       2024-02-13            11:00  ['234234', 'v2234']          28234\n",
      "3       2024-02-13            13:00          Bob Johnson       555-5678\n",
      "4       2024-02-14            08:00        Charlie Brown       555-9012\n",
      "5       2024-02-16            14:00  ['342423', '42342']             23\n"
     ]
    },
    {
     "name": "stderr",
     "output_type": "stream",
     "text": [
      "INFO:aiogram.event:Update id=257548652 is handled. Duration 2 ms by bot id=6444751690\n"
     ]
    }
   ],
   "source": [
    "import misc\n",
    "import handlers\n",
    "import asyncio\n",
    "import logging\n",
    "\n",
    "async def main():\n",
    "    await misc.bot.delete_webhook(drop_pending_updates=True)\n",
    "    await misc.dp.start_polling(misc.bot, allowed_updates=misc.dp.resolve_used_update_types())\n",
    "\n",
    "\n",
    "if __name__ == \"__main__\":\n",
    "    logging.basicConfig(level=logging.INFO)\n",
    "    # asyncio.run(main())\n",
    "    await main()"
   ]
  },
  {
   "cell_type": "code",
   "execution_count": null,
   "id": "e3748d5f",
   "metadata": {},
   "outputs": [],
   "source": [
    "import sqlite3\n",
    "from tables import (\n",
    "#     create_tables, fill_test_data_to_tables,     \n",
    "#     delete_collisions_by_appointment_time, \n",
    "#     delete_duplicates_from_customers, \n",
    "#     delete_duplicates_from_specialists, \n",
    "    show_table, show_full_schedule, \n",
    "    show_specialist_schedule, \n",
    "    insert_appointment\n",
    ")\n",
    "import datetime\n",
    "import pandas as pd\n",
    "from aiogram import types\n",
    "from aiogram.utils.keyboard import InlineKeyboardBuilder\n"
   ]
  }
 ],
 "metadata": {
  "kernelspec": {
   "display_name": "Python 3 (ipykernel)",
   "language": "python",
   "name": "python3"
  },
  "language_info": {
   "codemirror_mode": {
    "name": "ipython",
    "version": 3
   },
   "file_extension": ".py",
   "mimetype": "text/x-python",
   "name": "python",
   "nbconvert_exporter": "python",
   "pygments_lexer": "ipython3",
   "version": "3.9.12"
  }
 },
 "nbformat": 4,
 "nbformat_minor": 5
}
